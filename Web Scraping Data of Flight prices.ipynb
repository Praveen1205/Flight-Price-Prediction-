{
 "cells": [
  {
   "cell_type": "markdown",
   "metadata": {},
   "source": [
    "## **Flight Price Prediction Project - Web Scraping Data of Flight prices**\n",
    "### **Objective** :\n",
    " **To Scrape data of Flight price from different platform**\n",
    " \n",
    " **Details - You have to scrape at least 1500 rows of data. You can scrape more data as well, it’s up to you, \n",
    "More the data better the model\n",
    "In this section you have to scrape the data of flights from different websites (yatra.com, \n",
    "skyscanner.com, official websites of airlines, etc). The number of columns for data doesn’t have \n",
    "limit, it’s up to you and your creativity. Generally, these columns areairline name, date of journey, \n",
    "source, destination, route, departure time, arrival time, duration, total stops and the target variable \n",
    "price. You can make changes to it, you can add or you can remove some columns, it completely\n",
    "depends on the website from which you are fetching the data.**\n"
   ]
  },
  {
   "cell_type": "markdown",
   "metadata": {},
   "source": [
    "- **Importing libraries require for scraping**"
   ]
  },
  {
   "cell_type": "code",
   "execution_count": 90,
   "metadata": {},
   "outputs": [],
   "source": [
    "import pandas as pd\n",
    "import numpy as np\n",
    "import time\n",
    "import selenium\n",
    "from selenium import webdriver\n",
    "from selenium.common.exceptions import StaleElementReferenceException, NoSuchElementException\n",
    "from selenium.webdriver.support.ui import WebDriverWait\n",
    "from selenium.webdriver.common.by import By\n",
    "from selenium.webdriver.support import expected_conditions as EC"
   ]
  },
  {
   "cell_type": "markdown",
   "metadata": {},
   "source": [
    "- **Importing webdriver**"
   ]
  },
  {
   "cell_type": "code",
   "execution_count": 70,
   "metadata": {},
   "outputs": [],
   "source": [
    "import warnings\n",
    "warnings.filterwarnings('ignore')\n",
    "driver=webdriver.Chrome(r\"C:\\Users\\prave\\Downloads\\Compressed\\chromedriver.exe\")"
   ]
  },
  {
   "cell_type": "markdown",
   "metadata": {},
   "source": [
    "- **Opening yatra.com website in browser**"
   ]
  },
  {
   "cell_type": "code",
   "execution_count": 53,
   "metadata": {},
   "outputs": [],
   "source": [
    "url = \"https://www.yatra.com/\"\n",
    "driver.get(url)\n",
    "time.sleep(2)"
   ]
  },
  {
   "cell_type": "markdown",
   "metadata": {},
   "source": [
    "## **1. Extracting Economy flights from New Dehli to Mumbai**"
   ]
  },
  {
   "cell_type": "markdown",
   "metadata": {},
   "source": [
    "- **Opening Ecomnomy flights from New Dehli to Mumbai on 19 Sap 2022**"
   ]
  },
  {
   "cell_type": "code",
   "execution_count": 4,
   "metadata": {},
   "outputs": [],
   "source": [
    "url = \"https://flight.yatra.com/air-search-ui/dom2/trigger?type=O&viewName=normal&flexi=0&noOfSegments=1&origin=DEL&originCountry=IN&destination=BOM&destinationCountry=IN&flight_depart_date=19%2F09%2F2022&ADT=1&CHD=0&INF=0&class=Economy&source=fresco-home&unqvaldesktop=703610100321\"\n",
    "driver.get(url)\n",
    "time.sleep(2)"
   ]
  },
  {
   "cell_type": "code",
   "execution_count": 5,
   "metadata": {},
   "outputs": [],
   "source": [
    "Airlines = []\n",
    "Aeroplane = []\n",
    "Dept_time = []\n",
    "Arrival_time = []\n",
    "Source = []\n",
    "Destination = []\n",
    "Duration = []\n",
    "Stops = []\n",
    "Date = []\n",
    "Price = []"
   ]
  },
  {
   "cell_type": "code",
   "execution_count": 6,
   "metadata": {},
   "outputs": [
    {
     "name": "stderr",
     "output_type": "stream",
     "text": [
      "100%|██████████████████████████████████████████████████████████████████████████████████| 50/50 [00:16<00:00,  3.06it/s]\n"
     ]
    }
   ],
   "source": [
    "from tqdm import tqdm\n",
    "for _ in tqdm (range(0,50)):\n",
    "    time.sleep(0.1)\n",
    "    driver.execute_script(\"window.scrollBy(0,2000)\",\"\")\n",
    "    time.sleep(0.2)\n",
    "    driver.execute_script(\"window.scrollBy(0,-500)\",\"\")"
   ]
  },
  {
   "cell_type": "code",
   "execution_count": 7,
   "metadata": {},
   "outputs": [
    {
     "data": {
      "text/plain": [
       "161"
      ]
     },
     "execution_count": 7,
     "metadata": {},
     "output_type": "execute_result"
    }
   ],
   "source": [
    "flights=driver.find_elements(By.XPATH,'//div[@class=\"flight-det table full-width clearfix\"]')\n",
    "len(flights)"
   ]
  },
  {
   "cell_type": "code",
   "execution_count": 8,
   "metadata": {},
   "outputs": [
    {
     "name": "stderr",
     "output_type": "stream",
     "text": [
      "100%|████████████████████████████████████████████████████████████████████████████████| 161/161 [00:02<00:00, 71.32it/s]\n",
      "100%|████████████████████████████████████████████████████████████████████████████████| 161/161 [00:02<00:00, 69.57it/s]\n",
      "100%|████████████████████████████████████████████████████████████████████████████████| 161/161 [00:02<00:00, 61.29it/s]\n",
      "100%|████████████████████████████████████████████████████████████████████████████████| 161/161 [00:02<00:00, 56.39it/s]\n",
      "100%|████████████████████████████████████████████████████████████████████████████████| 161/161 [00:03<00:00, 50.95it/s]\n",
      "100%|████████████████████████████████████████████████████████████████████████████████| 161/161 [00:03<00:00, 47.02it/s]\n",
      "100%|████████████████████████████████████████████████████████████████████████████████| 161/161 [00:03<00:00, 43.65it/s]\n",
      "100%|████████████████████████████████████████████████████████████████████████████████| 161/161 [00:04<00:00, 39.86it/s]\n",
      "100%|████████████████████████████████████████████████████████████████████████████| 161/161 [00:00<00:00, 161435.08it/s]\n"
     ]
    }
   ],
   "source": [
    "# Extracting Airlines Name Via Xpath\n",
    "airlines = driver.find_elements(By.XPATH,\"//div[@class='fs-13 airline-name no-pad col-8']/span\")\n",
    "for i in airlines:\n",
    "    Airlines.append(i.text.replace(\"\\n\",\" \"))\n",
    "else :\n",
    "    pass\n",
    "\n",
    "# Extracting Aeroplane model  via xpath\n",
    "aeroplanes = driver.find_elements(By.XPATH,'//p[@class=\"normal fs-11 font-lightestgrey no-wrap fl-no\"]/span')\n",
    "for i in tqdm(aeroplanes):\n",
    "    Aeroplane.append(i.text) \n",
    "else:\n",
    "    pass\n",
    "\n",
    "# Extracting Departure Time of Filght via Xpath\n",
    "dept_times = driver.find_elements(By.XPATH,'//div[@class=\"i-b pr\"]')\n",
    "for i in tqdm(dept_times):\n",
    "    Dept_time.append(i.text)\n",
    "else :\n",
    "    pass\n",
    "\n",
    "# Extracting Arrival Time via xpath\n",
    "arrival = driver.find_elements(By.XPATH,'//p[@class=\"bold fs-15 mb-2 pr time\"]')\n",
    "for i in tqdm(arrival):\n",
    "    Arrival_time.append(i.text)\n",
    "else :\n",
    "    pass\n",
    "\n",
    "# Extracting Source of flight via Xpath\n",
    "source = driver.find_elements(By.XPATH,\"//div[@class='i-b col-4 no-wrap text-right dtime col-3']/p\")\n",
    "for i in tqdm(source):\n",
    "    Source.append(i.text)\n",
    "else :\n",
    "    pass\n",
    "\n",
    "# Extracting Destination of Flights via Xpath\n",
    "destination = driver.find_elements(By.XPATH,'//div[@class=\"i-b pdd-0 text-left atime col-5\"]/p[2]')\n",
    "for i in tqdm(destination):\n",
    "    Destination.append(i.text)\n",
    "else:\n",
    "    pass\n",
    "\n",
    "# Extracting Duration of Flights via Xpath\n",
    "duration = driver.find_elements(By.XPATH,'//div[@class=\"stop-cont pl-13\"]/p')\n",
    "for i in tqdm(duration):\n",
    "    Duration.append(i.text)\n",
    "else:\n",
    "    pass\n",
    "\n",
    "# Extracting stop details via Xpath\n",
    "stop = driver.find_elements(By.XPATH,\"//div[@class='stop-cont pl-13']/div/span\")\n",
    "for i in tqdm(stop):\n",
    "    Stops.append(i.text)\n",
    "else:\n",
    "    pass\n",
    "\n",
    "# Extracting Price of Flights via Xpath\n",
    "count = 0\n",
    "price = driver.find_elements(By.XPATH,'//div[@class=\"i-b tipsy fare-summary-tooltip fs-18\"]')\n",
    "for i in tqdm(price):\n",
    "    Price.append(i.text.replace(',',''))\n",
    "    count = count +1\n",
    "else:\n",
    "    count = count +1\n",
    "    pass\n",
    "\n",
    "# Clicking on Flights details element\n",
    "Button = driver.find_elements(By.XPATH,'//div[@class=\"link-color fs-12 cursor-pointer\"]/span')\n",
    "driver.execute_script(\"arguments[0].click();\", WebDriverWait(driver, 20).until(EC.element_to_be_clickable((By.XPATH,'//div[@class=\"link-color fs-12 cursor-pointer\"]/span'))))\n",
    "time.sleep(1)\n",
    "\n",
    "# Extracting Date of Flights via Xpath\n",
    "date = driver.find_element(By.XPATH,'//div[@class=\"bold fs-12 mb-5\"]')\n",
    "a = date.text\n",
    "for i in tqdm(range(count-1)):\n",
    "    Date.append(a)\n",
    "else:\n",
    "    pass"
   ]
  },
  {
   "cell_type": "code",
   "execution_count": 9,
   "metadata": {},
   "outputs": [
    {
     "data": {
      "text/plain": [
       "(161, 161, 161, 161, 161, 161, 161, 161, 161, 161)"
      ]
     },
     "execution_count": 9,
     "metadata": {},
     "output_type": "execute_result"
    }
   ],
   "source": [
    "len(Aeroplane), len(Airlines), len(Dept_time), len(Arrival_time), len(Source), len(Destination), len(Duration), len(Stops),len(Price), len(Date)"
   ]
  },
  {
   "cell_type": "markdown",
   "metadata": {},
   "source": [
    "- **Opening Ecomnomy flights from New Dehli to Bombay on 20 Sap 2022**"
   ]
  },
  {
   "cell_type": "code",
   "execution_count": 10,
   "metadata": {},
   "outputs": [],
   "source": [
    "url = \"https://flight.yatra.com/air-search-ui/dom2/trigger?ADT=1&CHD=0&INF=0&class=Economy&destination=BOM&destinationCountry=IN&flexi=0&flight_depart_date=20%2F09%2F2022&hb=&noOfSegments=1&origin=DEL&originCountry=IN&type=O&unique=1663476552695&viewName=normal\"\n",
    "driver.get(url)\n",
    "time.sleep(2)"
   ]
  },
  {
   "cell_type": "code",
   "execution_count": 13,
   "metadata": {},
   "outputs": [
    {
     "data": {
      "text/plain": [
       "164"
      ]
     },
     "execution_count": 13,
     "metadata": {},
     "output_type": "execute_result"
    }
   ],
   "source": [
    "flights=driver.find_elements(By.XPATH,'//div[@class=\"flight-det table full-width clearfix\"]')\n",
    "len(flights)"
   ]
  },
  {
   "cell_type": "code",
   "execution_count": 14,
   "metadata": {},
   "outputs": [
    {
     "name": "stderr",
     "output_type": "stream",
     "text": [
      "100%|████████████████████████████████████████████████████████████████████████████████| 164/164 [00:02<00:00, 72.57it/s]\n",
      "100%|████████████████████████████████████████████████████████████████████████████████| 164/164 [00:02<00:00, 70.33it/s]\n",
      "100%|████████████████████████████████████████████████████████████████████████████████| 164/164 [00:02<00:00, 62.72it/s]\n",
      "100%|████████████████████████████████████████████████████████████████████████████████| 164/164 [00:02<00:00, 56.61it/s]\n",
      "100%|████████████████████████████████████████████████████████████████████████████████| 164/164 [00:03<00:00, 51.33it/s]\n",
      "100%|████████████████████████████████████████████████████████████████████████████████| 164/164 [00:03<00:00, 46.58it/s]\n",
      "100%|████████████████████████████████████████████████████████████████████████████████| 164/164 [00:03<00:00, 43.54it/s]\n",
      "100%|████████████████████████████████████████████████████████████████████████████████| 164/164 [00:04<00:00, 39.48it/s]\n",
      "100%|████████████████████████████████████████████████████████████████████████████████████████| 164/164 [00:00<?, ?it/s]\n"
     ]
    }
   ],
   "source": [
    "# Extracting Airlines Name Via Xpath\n",
    "airlines = driver.find_elements(By.XPATH,\"//div[@class='fs-13 airline-name no-pad col-8']/span\")\n",
    "for i in airlines:\n",
    "    Airlines.append(i.text.replace(\"\\n\",\" \"))\n",
    "else :\n",
    "    pass\n",
    "\n",
    "# Extracting Aeroplane model  via xpath\n",
    "aeroplanes = driver.find_elements(By.XPATH,'//p[@class=\"normal fs-11 font-lightestgrey no-wrap fl-no\"]/span')\n",
    "for i in tqdm(aeroplanes):\n",
    "    Aeroplane.append(i.text) \n",
    "else:\n",
    "    pass\n",
    "\n",
    "# Extracting Departure Time of Filght via Xpath\n",
    "dept_times = driver.find_elements(By.XPATH,'//div[@class=\"i-b pr\"]')\n",
    "for i in tqdm(dept_times):\n",
    "    Dept_time.append(i.text)\n",
    "else :\n",
    "    pass\n",
    "\n",
    "# Extracting Arrival Time via xpath\n",
    "arrival = driver.find_elements(By.XPATH,'//p[@class=\"bold fs-15 mb-2 pr time\"]')\n",
    "for i in tqdm(arrival):\n",
    "    Arrival_time.append(i.text)\n",
    "else :\n",
    "    pass\n",
    "\n",
    "# Extracting Source of flight via Xpath\n",
    "source = driver.find_elements(By.XPATH,\"//div[@class='i-b col-4 no-wrap text-right dtime col-3']/p\")\n",
    "for i in tqdm(source):\n",
    "    Source.append(i.text)\n",
    "else :\n",
    "    pass\n",
    "\n",
    "# Extracting Destination of Flights via Xpath\n",
    "destination = driver.find_elements(By.XPATH,'//div[@class=\"i-b pdd-0 text-left atime col-5\"]/p[2]')\n",
    "for i in tqdm(destination):\n",
    "    Destination.append(i.text)\n",
    "else:\n",
    "    pass\n",
    "\n",
    "# Extracting Duration of Flights via Xpath\n",
    "duration = driver.find_elements(By.XPATH,'//div[@class=\"stop-cont pl-13\"]/p')\n",
    "for i in tqdm(duration):\n",
    "    Duration.append(i.text)\n",
    "else:\n",
    "    pass\n",
    "\n",
    "# Extracting stop details via Xpath\n",
    "stop = driver.find_elements(By.XPATH,\"//div[@class='stop-cont pl-13']/div/span\")\n",
    "for i in tqdm(stop):\n",
    "    Stops.append(i.text)\n",
    "else:\n",
    "    pass\n",
    "\n",
    "# Extracting Price of Flights via Xpath\n",
    "count = 0\n",
    "price = driver.find_elements(By.XPATH,'//div[@class=\"i-b tipsy fare-summary-tooltip fs-18\"]')\n",
    "for i in tqdm(price):\n",
    "    Price.append(i.text.replace(',',''))\n",
    "    count = count +1\n",
    "else:\n",
    "    count = count +1\n",
    "    pass\n",
    "\n",
    "# Clicking on Flights details element\n",
    "Button = driver.find_elements(By.XPATH,'//div[@class=\"link-color fs-12 cursor-pointer\"]/span')\n",
    "driver.execute_script(\"arguments[0].click();\", WebDriverWait(driver, 20).until(EC.element_to_be_clickable((By.XPATH,'//div[@class=\"link-color fs-12 cursor-pointer\"]/span'))))\n",
    "time.sleep(0.25)\n",
    "\n",
    "# Extracting Date of Flights via Xpath\n",
    "date = driver.find_element(By.XPATH,'//div[@class=\"bold fs-12 mb-5\"]')\n",
    "a = date.text\n",
    "for i in tqdm(range(count-1)):\n",
    "    Date.append(a)\n",
    "else:\n",
    "    pass"
   ]
  },
  {
   "cell_type": "code",
   "execution_count": 15,
   "metadata": {},
   "outputs": [
    {
     "data": {
      "text/plain": [
       "(325, 325, 325, 325, 325, 325, 325, 325, 325, 325)"
      ]
     },
     "execution_count": 15,
     "metadata": {},
     "output_type": "execute_result"
    }
   ],
   "source": [
    "len(Aeroplane), len(Airlines), len(Dept_time), len(Arrival_time), len(Source), len(Destination), len(Duration), len(Stops),len(Price), len(Date)"
   ]
  },
  {
   "cell_type": "markdown",
   "metadata": {},
   "source": [
    "- **Opening Ecomnomy flights from New Dehli to Mumbai on 21 Sap 2022**"
   ]
  },
  {
   "cell_type": "code",
   "execution_count": 17,
   "metadata": {},
   "outputs": [],
   "source": [
    "url = \"https://flight.yatra.com/air-search-ui/dom2/trigger?ADT=1&CHD=0&INF=0&class=Economy&destination=BOM&destinationCountry=IN&flexi=0&flight_depart_date=21%2F09%2F2022&hb=&noOfSegments=1&origin=DEL&originCountry=IN&type=O&unique=1663477459570&viewName=normal\"\n",
    "driver.get(url)\n",
    "time.sleep(2)"
   ]
  },
  {
   "cell_type": "code",
   "execution_count": 18,
   "metadata": {},
   "outputs": [
    {
     "name": "stderr",
     "output_type": "stream",
     "text": [
      "100%|██████████████████████████████████████████████████████████████████████████████████| 75/75 [00:30<00:00,  2.43it/s]\n"
     ]
    }
   ],
   "source": [
    "from tqdm import tqdm\n",
    "for _ in tqdm (range(0,75)):\n",
    "    time.sleep(0.1)\n",
    "    driver.execute_script(\"window.scrollBy(0,1500)\",\"\")\n",
    "    time.sleep(0.2)\n",
    "    driver.execute_script(\"window.scrollBy(0,-500)\",\"\")"
   ]
  },
  {
   "cell_type": "code",
   "execution_count": 20,
   "metadata": {},
   "outputs": [
    {
     "data": {
      "text/plain": [
       "159"
      ]
     },
     "execution_count": 20,
     "metadata": {},
     "output_type": "execute_result"
    }
   ],
   "source": [
    "flights=driver.find_elements(By.XPATH,'//div[@class=\"flight-det table full-width clearfix\"]')\n",
    "len(flights)"
   ]
  },
  {
   "cell_type": "code",
   "execution_count": 21,
   "metadata": {},
   "outputs": [
    {
     "name": "stderr",
     "output_type": "stream",
     "text": [
      "100%|████████████████████████████████████████████████████████████████████████████████| 159/159 [00:01<00:00, 79.98it/s]\n",
      "100%|████████████████████████████████████████████████████████████████████████████████| 159/159 [00:02<00:00, 70.57it/s]\n",
      "100%|████████████████████████████████████████████████████████████████████████████████| 159/159 [00:02<00:00, 63.28it/s]\n",
      "100%|████████████████████████████████████████████████████████████████████████████████| 159/159 [00:02<00:00, 57.38it/s]\n",
      "100%|████████████████████████████████████████████████████████████████████████████████| 159/159 [00:03<00:00, 52.11it/s]\n",
      "100%|████████████████████████████████████████████████████████████████████████████████| 159/159 [00:03<00:00, 47.52it/s]\n",
      "100%|████████████████████████████████████████████████████████████████████████████████| 159/159 [00:03<00:00, 44.19it/s]\n",
      "100%|████████████████████████████████████████████████████████████████████████████████| 159/159 [00:04<00:00, 35.37it/s]\n",
      "100%|████████████████████████████████████████████████████████████████████████████████████████| 159/159 [00:00<?, ?it/s]\n"
     ]
    }
   ],
   "source": [
    "# Extracting Airlines Name Via Xpath\n",
    "airlines = driver.find_elements(By.XPATH,\"//div[@class='fs-13 airline-name no-pad col-8']/span\")\n",
    "for i in airlines:\n",
    "    Airlines.append(i.text.replace(\"\\n\",\" \"))\n",
    "else :\n",
    "    pass\n",
    "\n",
    "# Extracting Aeroplane model  via xpath\n",
    "aeroplanes = driver.find_elements(By.XPATH,'//p[@class=\"normal fs-11 font-lightestgrey no-wrap fl-no\"]/span')\n",
    "for i in tqdm(aeroplanes):\n",
    "    Aeroplane.append(i.text) \n",
    "else:\n",
    "    pass\n",
    "\n",
    "# Extracting Departure Time of Filght via Xpath\n",
    "dept_times = driver.find_elements(By.XPATH,'//div[@class=\"i-b pr\"]')\n",
    "for i in tqdm(dept_times):\n",
    "    Dept_time.append(i.text)\n",
    "else :\n",
    "    pass\n",
    "\n",
    "# Extracting Arrival Time via xpath\n",
    "arrival = driver.find_elements(By.XPATH,'//p[@class=\"bold fs-15 mb-2 pr time\"]')\n",
    "for i in tqdm(arrival):\n",
    "    Arrival_time.append(i.text)\n",
    "else :\n",
    "    pass\n",
    "\n",
    "# Extracting Source of flight via Xpath\n",
    "source = driver.find_elements(By.XPATH,\"//div[@class='i-b col-4 no-wrap text-right dtime col-3']/p\")\n",
    "for i in tqdm(source):\n",
    "    Source.append(i.text)\n",
    "else :\n",
    "    pass\n",
    "\n",
    "# Extracting Destination of Flights via Xpath\n",
    "destination = driver.find_elements(By.XPATH,'//div[@class=\"i-b pdd-0 text-left atime col-5\"]/p[2]')\n",
    "for i in tqdm(destination):\n",
    "    Destination.append(i.text)\n",
    "else:\n",
    "    pass\n",
    "\n",
    "# Extracting Duration of Flights via Xpath\n",
    "duration = driver.find_elements(By.XPATH,'//div[@class=\"stop-cont pl-13\"]/p')\n",
    "for i in tqdm(duration):\n",
    "    Duration.append(i.text)\n",
    "else:\n",
    "    pass\n",
    "\n",
    "# Extracting stop details via Xpath\n",
    "stop = driver.find_elements(By.XPATH,\"//div[@class='stop-cont pl-13']/div/span\")\n",
    "for i in tqdm(stop):\n",
    "    Stops.append(i.text)\n",
    "else:\n",
    "    pass\n",
    "\n",
    "# Extracting Price of Flights via Xpath\n",
    "count = 0\n",
    "price = driver.find_elements(By.XPATH,'//div[@class=\"i-b tipsy fare-summary-tooltip fs-18\"]')\n",
    "for i in tqdm(price):\n",
    "    Price.append(i.text.replace(',',''))\n",
    "    count = count +1\n",
    "else:\n",
    "    count = count +1\n",
    "    pass\n",
    "\n",
    "# Clicking on Flights details element\n",
    "Button = driver.find_elements(By.XPATH,'//div[@class=\"link-color fs-12 cursor-pointer\"]/span')\n",
    "driver.execute_script(\"arguments[0].click();\", WebDriverWait(driver, 20).until(EC.element_to_be_clickable((By.XPATH,'//div[@class=\"link-color fs-12 cursor-pointer\"]/span'))))\n",
    "time.sleep(0.25)\n",
    "\n",
    "# Extracting Date of Flights via Xpath\n",
    "date = driver.find_element(By.XPATH,'//div[@class=\"bold fs-12 mb-5\"]')\n",
    "a = date.text\n",
    "for i in tqdm(range(count-1)):\n",
    "    Date.append(a)\n",
    "else:\n",
    "    pass"
   ]
  },
  {
   "cell_type": "code",
   "execution_count": 22,
   "metadata": {},
   "outputs": [
    {
     "data": {
      "text/plain": [
       "(484, 484, 484, 484, 484, 484, 484, 484, 484, 484)"
      ]
     },
     "execution_count": 22,
     "metadata": {},
     "output_type": "execute_result"
    }
   ],
   "source": [
    "len(Aeroplane), len(Airlines), len(Dept_time), len(Arrival_time), len(Source), len(Destination), len(Duration), len(Stops),len(Price), len(Date)"
   ]
  },
  {
   "cell_type": "markdown",
   "metadata": {},
   "source": [
    "- **Opening Ecomnomy flights from New Dehli to Mumbai on 22 Sap 2022**"
   ]
  },
  {
   "cell_type": "code",
   "execution_count": 23,
   "metadata": {},
   "outputs": [],
   "source": [
    "url = \"https://flight.yatra.com/air-search-ui/dom2/trigger?ADT=1&CHD=0&INF=0&class=Economy&destination=BOM&destinationCountry=IN&flexi=0&flight_depart_date=22%2F09%2F2022&hb=&noOfSegments=1&origin=DEL&originCountry=IN&type=O&unique=1663477844566&viewName=normal\"\n",
    "driver.get(url)\n",
    "time.sleep(2)"
   ]
  },
  {
   "cell_type": "code",
   "execution_count": 25,
   "metadata": {},
   "outputs": [
    {
     "data": {
      "text/plain": [
       "169"
      ]
     },
     "execution_count": 25,
     "metadata": {},
     "output_type": "execute_result"
    }
   ],
   "source": [
    "flights=driver.find_elements(By.XPATH,'//div[@class=\"flight-det table full-width clearfix\"]')\n",
    "len(flights)"
   ]
  },
  {
   "cell_type": "code",
   "execution_count": 26,
   "metadata": {},
   "outputs": [
    {
     "name": "stderr",
     "output_type": "stream",
     "text": [
      "100%|████████████████████████████████████████████████████████████████████████████████| 169/169 [00:02<00:00, 78.60it/s]\n",
      "100%|████████████████████████████████████████████████████████████████████████████████| 169/169 [00:02<00:00, 69.61it/s]\n",
      "100%|████████████████████████████████████████████████████████████████████████████████| 169/169 [00:02<00:00, 61.95it/s]\n",
      "100%|████████████████████████████████████████████████████████████████████████████████| 169/169 [00:03<00:00, 56.16it/s]\n",
      "100%|████████████████████████████████████████████████████████████████████████████████| 169/169 [00:03<00:00, 50.51it/s]\n",
      "100%|████████████████████████████████████████████████████████████████████████████████| 169/169 [00:03<00:00, 46.32it/s]\n",
      "100%|████████████████████████████████████████████████████████████████████████████████| 169/169 [00:04<00:00, 41.36it/s]\n",
      "100%|████████████████████████████████████████████████████████████████████████████████| 169/169 [00:04<00:00, 42.20it/s]\n",
      "100%|████████████████████████████████████████████████████████████████████████████████████████| 169/169 [00:00<?, ?it/s]\n"
     ]
    }
   ],
   "source": [
    "# Extracting Airlines Name Via Xpath\n",
    "airlines = driver.find_elements(By.XPATH,\"//div[@class='fs-13 airline-name no-pad col-8']/span\")\n",
    "for i in airlines:\n",
    "    Airlines.append(i.text.replace(\"\\n\",\" \"))\n",
    "else :\n",
    "    pass\n",
    "\n",
    "# Extracting Aeroplane model  via xpath\n",
    "aeroplanes = driver.find_elements(By.XPATH,'//p[@class=\"normal fs-11 font-lightestgrey no-wrap fl-no\"]/span')\n",
    "for i in tqdm(aeroplanes):\n",
    "    Aeroplane.append(i.text) \n",
    "else:\n",
    "    pass\n",
    "\n",
    "# Extracting Departure Time of Filght via Xpath\n",
    "dept_times = driver.find_elements(By.XPATH,'//div[@class=\"i-b pr\"]')\n",
    "for i in tqdm(dept_times):\n",
    "    Dept_time.append(i.text)\n",
    "else :\n",
    "    pass\n",
    "\n",
    "# Extracting Arrival Time via xpath\n",
    "arrival = driver.find_elements(By.XPATH,'//p[@class=\"bold fs-15 mb-2 pr time\"]')\n",
    "for i in tqdm(arrival):\n",
    "    Arrival_time.append(i.text)\n",
    "else :\n",
    "    pass\n",
    "\n",
    "# Extracting Source of flight via Xpath\n",
    "source = driver.find_elements(By.XPATH,\"//div[@class='i-b col-4 no-wrap text-right dtime col-3']/p\")\n",
    "for i in tqdm(source):\n",
    "    Source.append(i.text)\n",
    "else :\n",
    "    pass\n",
    "\n",
    "# Extracting Destination of Flights via Xpath\n",
    "destination = driver.find_elements(By.XPATH,'//div[@class=\"i-b pdd-0 text-left atime col-5\"]/p[2]')\n",
    "for i in tqdm(destination):\n",
    "    Destination.append(i.text)\n",
    "else:\n",
    "    pass\n",
    "\n",
    "# Extracting Duration of Flights via Xpath\n",
    "duration = driver.find_elements(By.XPATH,'//div[@class=\"stop-cont pl-13\"]/p')\n",
    "for i in tqdm(duration):\n",
    "    Duration.append(i.text)\n",
    "else:\n",
    "    pass\n",
    "\n",
    "# Extracting stop details via Xpath\n",
    "stop = driver.find_elements(By.XPATH,\"//div[@class='stop-cont pl-13']/div/span\")\n",
    "for i in tqdm(stop):\n",
    "    Stops.append(i.text)\n",
    "else:\n",
    "    pass\n",
    "\n",
    "# Extracting Price of Flights via Xpath\n",
    "count = 0\n",
    "price = driver.find_elements(By.XPATH,'//div[@class=\"i-b tipsy fare-summary-tooltip fs-18\"]')\n",
    "for i in tqdm(price):\n",
    "    Price.append(i.text.replace(',',''))\n",
    "    count = count +1\n",
    "else:\n",
    "    count = count +1\n",
    "    pass\n",
    "\n",
    "# Clicking on Flights details element\n",
    "Button = driver.find_elements(By.XPATH,'//div[@class=\"link-color fs-12 cursor-pointer\"]/span')\n",
    "driver.execute_script(\"arguments[0].click();\", WebDriverWait(driver, 20).until(EC.element_to_be_clickable((By.XPATH,'//div[@class=\"link-color fs-12 cursor-pointer\"]/span'))))\n",
    "time.sleep(0.25)\n",
    "\n",
    "# Extracting Date of Flights via Xpath\n",
    "date = driver.find_element(By.XPATH,'//div[@class=\"bold fs-12 mb-5\"]')\n",
    "a = date.text\n",
    "for i in tqdm(range(count-1)):\n",
    "    Date.append(a)\n",
    "else:\n",
    "    pass"
   ]
  },
  {
   "cell_type": "code",
   "execution_count": 27,
   "metadata": {},
   "outputs": [
    {
     "data": {
      "text/plain": [
       "(653, 653, 653, 653, 653, 653, 653, 653, 653, 653)"
      ]
     },
     "execution_count": 27,
     "metadata": {},
     "output_type": "execute_result"
    }
   ],
   "source": [
    "len(Aeroplane), len(Airlines), len(Dept_time), len(Arrival_time), len(Source), len(Destination), len(Duration), len(Stops),len(Price), len(Date)"
   ]
  },
  {
   "cell_type": "markdown",
   "metadata": {},
   "source": [
    "- **Opening Ecomnomy flights from New Dehli to Mumbai on 23 Sap 2022**"
   ]
  },
  {
   "cell_type": "code",
   "execution_count": 28,
   "metadata": {},
   "outputs": [],
   "source": [
    "url = \"https://flight.yatra.com/air-search-ui/dom2/trigger?ADT=1&CHD=0&INF=0&class=Economy&destination=BOM&destinationCountry=IN&flexi=0&flight_depart_date=23%2F09%2F2022&hb=&noOfSegments=1&origin=DEL&originCountry=IN&type=O&unique=1663478283458&viewName=normal\"\n",
    "driver.get(url)\n",
    "time.sleep(2)"
   ]
  },
  {
   "cell_type": "code",
   "execution_count": 32,
   "metadata": {},
   "outputs": [
    {
     "data": {
      "text/plain": [
       "171"
      ]
     },
     "execution_count": 32,
     "metadata": {},
     "output_type": "execute_result"
    }
   ],
   "source": [
    "flights=driver.find_elements(By.XPATH,'//div[@class=\"flight-det table full-width clearfix\"]')\n",
    "len(flights)"
   ]
  },
  {
   "cell_type": "code",
   "execution_count": 33,
   "metadata": {},
   "outputs": [
    {
     "name": "stderr",
     "output_type": "stream",
     "text": [
      "100%|████████████████████████████████████████████████████████████████████████████████| 171/171 [00:02<00:00, 78.40it/s]\n",
      "100%|████████████████████████████████████████████████████████████████████████████████| 171/171 [00:02<00:00, 68.84it/s]\n",
      "100%|████████████████████████████████████████████████████████████████████████████████| 171/171 [00:02<00:00, 61.58it/s]\n",
      "100%|████████████████████████████████████████████████████████████████████████████████| 171/171 [00:03<00:00, 54.86it/s]\n",
      "100%|████████████████████████████████████████████████████████████████████████████████| 171/171 [00:03<00:00, 49.38it/s]\n",
      "100%|████████████████████████████████████████████████████████████████████████████████| 171/171 [00:03<00:00, 45.77it/s]\n",
      "100%|████████████████████████████████████████████████████████████████████████████████| 171/171 [00:04<00:00, 42.47it/s]\n",
      "100%|████████████████████████████████████████████████████████████████████████████████| 171/171 [00:04<00:00, 38.58it/s]\n",
      "100%|████████████████████████████████████████████████████████████████████████████████████████| 171/171 [00:00<?, ?it/s]\n"
     ]
    }
   ],
   "source": [
    "# Extracting Airlines Name Via Xpath\n",
    "airlines = driver.find_elements(By.XPATH,\"//div[@class='fs-13 airline-name no-pad col-8']/span\")\n",
    "for i in airlines:\n",
    "    Airlines.append(i.text.replace(\"\\n\",\" \"))\n",
    "else :\n",
    "    pass\n",
    "\n",
    "# Extracting Aeroplane model  via xpath\n",
    "aeroplanes = driver.find_elements(By.XPATH,'//p[@class=\"normal fs-11 font-lightestgrey no-wrap fl-no\"]/span')\n",
    "for i in tqdm(aeroplanes):\n",
    "    Aeroplane.append(i.text) \n",
    "else:\n",
    "    pass\n",
    "\n",
    "# Extracting Departure Time of Filght via Xpath\n",
    "dept_times = driver.find_elements(By.XPATH,'//div[@class=\"i-b pr\"]')\n",
    "for i in tqdm(dept_times):\n",
    "    Dept_time.append(i.text)\n",
    "else :\n",
    "    pass\n",
    "\n",
    "# Extracting Arrival Time via xpath\n",
    "arrival = driver.find_elements(By.XPATH,'//p[@class=\"bold fs-15 mb-2 pr time\"]')\n",
    "for i in tqdm(arrival):\n",
    "    Arrival_time.append(i.text)\n",
    "else :\n",
    "    pass\n",
    "\n",
    "# Extracting Source of flight via Xpath\n",
    "source = driver.find_elements(By.XPATH,\"//div[@class='i-b col-4 no-wrap text-right dtime col-3']/p\")\n",
    "for i in tqdm(source):\n",
    "    Source.append(i.text)\n",
    "else :\n",
    "    pass\n",
    "\n",
    "# Extracting Destination of Flights via Xpath\n",
    "destination = driver.find_elements(By.XPATH,'//div[@class=\"i-b pdd-0 text-left atime col-5\"]/p[2]')\n",
    "for i in tqdm(destination):\n",
    "    Destination.append(i.text)\n",
    "else:\n",
    "    pass\n",
    "\n",
    "# Extracting Duration of Flights via Xpath\n",
    "duration = driver.find_elements(By.XPATH,'//div[@class=\"stop-cont pl-13\"]/p')\n",
    "for i in tqdm(duration):\n",
    "    Duration.append(i.text)\n",
    "else:\n",
    "    pass\n",
    "\n",
    "# Extracting stop details via Xpath\n",
    "stop = driver.find_elements(By.XPATH,\"//div[@class='stop-cont pl-13']/div/span\")\n",
    "for i in tqdm(stop):\n",
    "    Stops.append(i.text)\n",
    "else:\n",
    "    pass\n",
    "\n",
    "# Extracting Price of Flights via Xpath\n",
    "count = 0\n",
    "price = driver.find_elements(By.XPATH,'//div[@class=\"i-b tipsy fare-summary-tooltip fs-18\"]')\n",
    "for i in tqdm(price):\n",
    "    Price.append(i.text.replace(',',''))\n",
    "    count = count +1\n",
    "else:\n",
    "    count = count +1\n",
    "    pass\n",
    "\n",
    "# Clicking on Flights details element\n",
    "Button = driver.find_elements(By.XPATH,'//div[@class=\"link-color fs-12 cursor-pointer\"]/span')\n",
    "driver.execute_script(\"arguments[0].click();\", WebDriverWait(driver, 20).until(EC.element_to_be_clickable((By.XPATH,'//div[@class=\"link-color fs-12 cursor-pointer\"]/span'))))\n",
    "time.sleep(0.25)\n",
    "\n",
    "# Extracting Date of Flights via Xpath\n",
    "date = driver.find_element(By.XPATH,'//div[@class=\"bold fs-12 mb-5\"]')\n",
    "a = date.text\n",
    "for i in tqdm(range(count-1)):\n",
    "    Date.append(a)\n",
    "else:\n",
    "    pass"
   ]
  },
  {
   "cell_type": "code",
   "execution_count": 34,
   "metadata": {},
   "outputs": [
    {
     "data": {
      "text/plain": [
       "(824, 824, 824, 824, 824, 824, 824, 824, 824, 824)"
      ]
     },
     "execution_count": 34,
     "metadata": {},
     "output_type": "execute_result"
    }
   ],
   "source": [
    "len(Aeroplane), len(Airlines), len(Dept_time), len(Arrival_time), len(Source), len(Destination), len(Duration), len(Stops),len(Price), len(Date)"
   ]
  },
  {
   "cell_type": "markdown",
   "metadata": {},
   "source": [
    "- **Opening Ecomnomy flights from New Dehli to Mumbai on 24 Sep 2022**"
   ]
  },
  {
   "cell_type": "code",
   "execution_count": 35,
   "metadata": {},
   "outputs": [],
   "source": [
    "url = \"https://flight.yatra.com/air-search-ui/dom2/trigger?ADT=1&CHD=0&INF=0&class=Economy&destination=BOM&destinationCountry=IN&flexi=0&flight_depart_date=24%2F09%2F2022&hb=&noOfSegments=1&origin=DEL&originCountry=IN&type=O&unique=1663479411754&viewName=normal\"\n",
    "driver.get(url)\n",
    "time.sleep(2)"
   ]
  },
  {
   "cell_type": "code",
   "execution_count": 36,
   "metadata": {},
   "outputs": [
    {
     "data": {
      "text/plain": [
       "173"
      ]
     },
     "execution_count": 36,
     "metadata": {},
     "output_type": "execute_result"
    }
   ],
   "source": [
    "flights=driver.find_elements(By.XPATH,'//div[@class=\"flight-det table full-width clearfix\"]')\n",
    "len(flights)"
   ]
  },
  {
   "cell_type": "code",
   "execution_count": 37,
   "metadata": {},
   "outputs": [
    {
     "name": "stderr",
     "output_type": "stream",
     "text": [
      "100%|████████████████████████████████████████████████████████████████████████████████| 173/173 [00:02<00:00, 67.49it/s]\n",
      "100%|████████████████████████████████████████████████████████████████████████████████| 173/173 [00:02<00:00, 67.81it/s]\n",
      "100%|████████████████████████████████████████████████████████████████████████████████| 173/173 [00:02<00:00, 61.33it/s]\n",
      "100%|████████████████████████████████████████████████████████████████████████████████| 173/173 [00:03<00:00, 55.41it/s]\n",
      "100%|████████████████████████████████████████████████████████████████████████████████| 173/173 [00:03<00:00, 50.16it/s]\n",
      "100%|████████████████████████████████████████████████████████████████████████████████| 173/173 [00:03<00:00, 45.83it/s]\n",
      "100%|████████████████████████████████████████████████████████████████████████████████| 173/173 [00:04<00:00, 41.78it/s]\n",
      "100%|████████████████████████████████████████████████████████████████████████████████| 173/173 [00:04<00:00, 38.10it/s]\n",
      "100%|████████████████████████████████████████████████████████████████████████████████████████| 173/173 [00:00<?, ?it/s]\n"
     ]
    }
   ],
   "source": [
    "# Extracting Airlines Name Via Xpath\n",
    "airlines = driver.find_elements(By.XPATH,\"//div[@class='fs-13 airline-name no-pad col-8']/span\")\n",
    "for i in airlines:\n",
    "    Airlines.append(i.text.replace(\"\\n\",\" \"))\n",
    "else :\n",
    "    pass\n",
    "\n",
    "# Extracting Aeroplane model  via xpath\n",
    "aeroplanes = driver.find_elements(By.XPATH,'//p[@class=\"normal fs-11 font-lightestgrey no-wrap fl-no\"]/span')\n",
    "for i in tqdm(aeroplanes):\n",
    "    Aeroplane.append(i.text) \n",
    "else:\n",
    "    pass\n",
    "\n",
    "# Extracting Departure Time of Filght via Xpath\n",
    "dept_times = driver.find_elements(By.XPATH,'//div[@class=\"i-b pr\"]')\n",
    "for i in tqdm(dept_times):\n",
    "    Dept_time.append(i.text)\n",
    "else :\n",
    "    pass\n",
    "\n",
    "# Extracting Arrival Time via xpath\n",
    "arrival = driver.find_elements(By.XPATH,'//p[@class=\"bold fs-15 mb-2 pr time\"]')\n",
    "for i in tqdm(arrival):\n",
    "    Arrival_time.append(i.text)\n",
    "else :\n",
    "    pass\n",
    "\n",
    "# Extracting Source of flight via Xpath\n",
    "source = driver.find_elements(By.XPATH,\"//div[@class='i-b col-4 no-wrap text-right dtime col-3']/p\")\n",
    "for i in tqdm(source):\n",
    "    Source.append(i.text)\n",
    "else :\n",
    "    pass\n",
    "\n",
    "# Extracting Destination of Flights via Xpath\n",
    "destination = driver.find_elements(By.XPATH,'//div[@class=\"i-b pdd-0 text-left atime col-5\"]/p[2]')\n",
    "for i in tqdm(destination):\n",
    "    Destination.append(i.text)\n",
    "else:\n",
    "    pass\n",
    "\n",
    "# Extracting Duration of Flights via Xpath\n",
    "duration = driver.find_elements(By.XPATH,'//div[@class=\"stop-cont pl-13\"]/p')\n",
    "for i in tqdm(duration):\n",
    "    Duration.append(i.text)\n",
    "else:\n",
    "    pass\n",
    "\n",
    "# Extracting stop details via Xpath\n",
    "stop = driver.find_elements(By.XPATH,\"//div[@class='stop-cont pl-13']/div/span\")\n",
    "for i in tqdm(stop):\n",
    "    Stops.append(i.text)\n",
    "else:\n",
    "    pass\n",
    "\n",
    "# Extracting Price of Flights via Xpath\n",
    "count = 0\n",
    "price = driver.find_elements(By.XPATH,'//div[@class=\"i-b tipsy fare-summary-tooltip fs-18\"]')\n",
    "for i in tqdm(price):\n",
    "    Price.append(i.text.replace(',',''))\n",
    "    count = count +1\n",
    "else:\n",
    "    count = count +1\n",
    "    pass\n",
    "\n",
    "# Clicking on Flights details element\n",
    "Button = driver.find_elements(By.XPATH,'//div[@class=\"link-color fs-12 cursor-pointer\"]/span')\n",
    "driver.execute_script(\"arguments[0].click();\", WebDriverWait(driver, 20).until(EC.element_to_be_clickable((By.XPATH,'//div[@class=\"link-color fs-12 cursor-pointer\"]/span'))))\n",
    "time.sleep(0.25)\n",
    "\n",
    "# Extracting Date of Flights via Xpath\n",
    "date = driver.find_element(By.XPATH,'//div[@class=\"bold fs-12 mb-5\"]')\n",
    "a = date.text\n",
    "for i in tqdm(range(count-1)):\n",
    "    Date.append(a)\n",
    "else:\n",
    "    pass"
   ]
  },
  {
   "cell_type": "code",
   "execution_count": 38,
   "metadata": {},
   "outputs": [
    {
     "data": {
      "text/plain": [
       "(997, 997, 997, 997, 997, 997, 997, 997, 997, 997)"
      ]
     },
     "execution_count": 38,
     "metadata": {},
     "output_type": "execute_result"
    }
   ],
   "source": [
    "len(Aeroplane), len(Airlines), len(Dept_time), len(Arrival_time), len(Source), len(Destination), len(Duration), len(Stops),len(Price), len(Date)"
   ]
  },
  {
   "cell_type": "markdown",
   "metadata": {},
   "source": [
    "- **Opening Ecomnomy flights from New Dehli to Mumbai on 25 Sep 2022**"
   ]
  },
  {
   "cell_type": "code",
   "execution_count": 39,
   "metadata": {},
   "outputs": [],
   "source": [
    "url = \"https://flight.yatra.com/air-search-ui/dom2/trigger?ADT=1&CHD=0&INF=0&class=Economy&destination=BOM&destinationCountry=IN&flexi=0&flight_depart_date=25%2F09%2F2022&hb=&noOfSegments=1&origin=DEL&originCountry=IN&type=O&unique=1663479551640&viewName=normal\"\n",
    "driver.get(url)\n",
    "time.sleep(2)"
   ]
  },
  {
   "cell_type": "code",
   "execution_count": 40,
   "metadata": {},
   "outputs": [
    {
     "data": {
      "text/plain": [
       "161"
      ]
     },
     "execution_count": 40,
     "metadata": {},
     "output_type": "execute_result"
    }
   ],
   "source": [
    "flights=driver.find_elements(By.XPATH,'//div[@class=\"flight-det table full-width clearfix\"]')\n",
    "len(flights)"
   ]
  },
  {
   "cell_type": "code",
   "execution_count": 41,
   "metadata": {},
   "outputs": [
    {
     "name": "stderr",
     "output_type": "stream",
     "text": [
      "100%|████████████████████████████████████████████████████████████████████████████████| 161/161 [00:02<00:00, 78.62it/s]\n",
      "100%|████████████████████████████████████████████████████████████████████████████████| 161/161 [00:02<00:00, 65.05it/s]\n",
      "100%|████████████████████████████████████████████████████████████████████████████████| 161/161 [00:02<00:00, 63.09it/s]\n",
      "100%|████████████████████████████████████████████████████████████████████████████████| 161/161 [00:03<00:00, 53.05it/s]\n",
      "100%|████████████████████████████████████████████████████████████████████████████████| 161/161 [00:03<00:00, 51.65it/s]\n",
      "100%|████████████████████████████████████████████████████████████████████████████████| 161/161 [00:03<00:00, 49.61it/s]\n",
      "100%|████████████████████████████████████████████████████████████████████████████████| 161/161 [00:03<00:00, 45.64it/s]\n",
      "100%|████████████████████████████████████████████████████████████████████████████████| 161/161 [00:03<00:00, 41.82it/s]\n",
      "100%|████████████████████████████████████████████████████████████████████████████████████████| 161/161 [00:00<?, ?it/s]\n"
     ]
    }
   ],
   "source": [
    "# Extracting Airlines Name Via Xpath\n",
    "airlines = driver.find_elements(By.XPATH,\"//div[@class='fs-13 airline-name no-pad col-8']/span\")\n",
    "for i in airlines:\n",
    "    Airlines.append(i.text.replace(\"\\n\",\" \"))\n",
    "else :\n",
    "    pass\n",
    "\n",
    "# Extracting Aeroplane model  via xpath\n",
    "aeroplanes = driver.find_elements(By.XPATH,'//p[@class=\"normal fs-11 font-lightestgrey no-wrap fl-no\"]/span')\n",
    "for i in tqdm(aeroplanes):\n",
    "    Aeroplane.append(i.text) \n",
    "else:\n",
    "    pass\n",
    "\n",
    "# Extracting Departure Time of Filght via Xpath\n",
    "dept_times = driver.find_elements(By.XPATH,'//div[@class=\"i-b pr\"]')\n",
    "for i in tqdm(dept_times):\n",
    "    Dept_time.append(i.text)\n",
    "else :\n",
    "    pass\n",
    "\n",
    "# Extracting Arrival Time via xpath\n",
    "arrival = driver.find_elements(By.XPATH,'//p[@class=\"bold fs-15 mb-2 pr time\"]')\n",
    "for i in tqdm(arrival):\n",
    "    Arrival_time.append(i.text)\n",
    "else :\n",
    "    pass\n",
    "\n",
    "# Extracting Source of flight via Xpath\n",
    "source = driver.find_elements(By.XPATH,\"//div[@class='i-b col-4 no-wrap text-right dtime col-3']/p\")\n",
    "for i in tqdm(source):\n",
    "    Source.append(i.text)\n",
    "else :\n",
    "    pass\n",
    "\n",
    "# Extracting Destination of Flights via Xpath\n",
    "destination = driver.find_elements(By.XPATH,'//div[@class=\"i-b pdd-0 text-left atime col-5\"]/p[2]')\n",
    "for i in tqdm(destination):\n",
    "    Destination.append(i.text)\n",
    "else:\n",
    "    pass\n",
    "\n",
    "# Extracting Duration of Flights via Xpath\n",
    "duration = driver.find_elements(By.XPATH,'//div[@class=\"stop-cont pl-13\"]/p')\n",
    "for i in tqdm(duration):\n",
    "    Duration.append(i.text)\n",
    "else:\n",
    "    pass\n",
    "\n",
    "# Extracting stop details via Xpath\n",
    "stop = driver.find_elements(By.XPATH,\"//div[@class='stop-cont pl-13']/div/span\")\n",
    "for i in tqdm(stop):\n",
    "    Stops.append(i.text)\n",
    "else:\n",
    "    pass\n",
    "\n",
    "# Extracting Price of Flights via Xpath\n",
    "count = 0\n",
    "price = driver.find_elements(By.XPATH,'//div[@class=\"i-b tipsy fare-summary-tooltip fs-18\"]')\n",
    "for i in tqdm(price):\n",
    "    Price.append(i.text.replace(',',''))\n",
    "    count = count +1\n",
    "else:\n",
    "    count = count +1\n",
    "    pass\n",
    "\n",
    "# Clicking on Flights details element\n",
    "Button = driver.find_elements(By.XPATH,'//div[@class=\"link-color fs-12 cursor-pointer\"]/span')\n",
    "driver.execute_script(\"arguments[0].click();\", WebDriverWait(driver, 20).until(EC.element_to_be_clickable((By.XPATH,'//div[@class=\"link-color fs-12 cursor-pointer\"]/span'))))\n",
    "time.sleep(0.25)\n",
    "\n",
    "# Extracting Date of Flights via Xpath\n",
    "date = driver.find_element(By.XPATH,'//div[@class=\"bold fs-12 mb-5\"]')\n",
    "a = date.text\n",
    "for i in tqdm(range(count-1)):\n",
    "    Date.append(a)\n",
    "else:\n",
    "    pass"
   ]
  },
  {
   "cell_type": "code",
   "execution_count": 42,
   "metadata": {},
   "outputs": [
    {
     "data": {
      "text/plain": [
       "(1158, 1158, 1158, 1158, 1158, 1158, 1158, 1158, 1158, 1158)"
      ]
     },
     "execution_count": 42,
     "metadata": {},
     "output_type": "execute_result"
    }
   ],
   "source": [
    "len(Aeroplane), len(Airlines), len(Dept_time), len(Arrival_time), len(Source), len(Destination), len(Duration), len(Stops),len(Price), len(Date)"
   ]
  },
  {
   "cell_type": "markdown",
   "metadata": {},
   "source": [
    "- **Opening Ecomnomy flights from New Dehli to Mumbai on 26 sep 2022**"
   ]
  },
  {
   "cell_type": "code",
   "execution_count": 43,
   "metadata": {},
   "outputs": [],
   "source": [
    "url = \"https://flight.yatra.com/air-search-ui/dom2/trigger?ADT=1&CHD=0&INF=0&class=Economy&destination=BOM&destinationCountry=IN&flexi=0&flight_depart_date=26%2F09%2F2022&hb=&noOfSegments=1&origin=DEL&originCountry=IN&type=O&unique=1663479694679&viewName=normal\"\n",
    "driver.get(url)\n",
    "time.sleep(2)"
   ]
  },
  {
   "cell_type": "code",
   "execution_count": 44,
   "metadata": {},
   "outputs": [
    {
     "data": {
      "text/plain": [
       "169"
      ]
     },
     "execution_count": 44,
     "metadata": {},
     "output_type": "execute_result"
    }
   ],
   "source": [
    "flights=driver.find_elements(By.XPATH,'//div[@class=\"flight-det table full-width clearfix\"]')\n",
    "len(flights)"
   ]
  },
  {
   "cell_type": "code",
   "execution_count": 45,
   "metadata": {},
   "outputs": [
    {
     "name": "stderr",
     "output_type": "stream",
     "text": [
      "100%|████████████████████████████████████████████████████████████████████████████████| 169/169 [00:02<00:00, 78.47it/s]\n",
      "100%|████████████████████████████████████████████████████████████████████████████████| 169/169 [00:02<00:00, 68.42it/s]\n",
      "100%|████████████████████████████████████████████████████████████████████████████████| 169/169 [00:02<00:00, 61.34it/s]\n",
      "100%|████████████████████████████████████████████████████████████████████████████████| 169/169 [00:03<00:00, 55.74it/s]\n",
      "100%|████████████████████████████████████████████████████████████████████████████████| 169/169 [00:03<00:00, 50.17it/s]\n",
      "100%|████████████████████████████████████████████████████████████████████████████████| 169/169 [00:03<00:00, 45.97it/s]\n",
      "100%|████████████████████████████████████████████████████████████████████████████████| 169/169 [00:04<00:00, 42.05it/s]\n",
      "100%|████████████████████████████████████████████████████████████████████████████████| 169/169 [00:04<00:00, 38.40it/s]\n",
      "100%|████████████████████████████████████████████████████████████████████████████████████████| 169/169 [00:00<?, ?it/s]\n"
     ]
    }
   ],
   "source": [
    "# Extracting Airlines Name Via Xpath\n",
    "airlines = driver.find_elements(By.XPATH,\"//div[@class='fs-13 airline-name no-pad col-8']/span\")\n",
    "for i in airlines:\n",
    "    Airlines.append(i.text.replace(\"\\n\",\" \"))\n",
    "else :\n",
    "    pass\n",
    "\n",
    "# Extracting Aeroplane model  via xpath\n",
    "aeroplanes = driver.find_elements(By.XPATH,'//p[@class=\"normal fs-11 font-lightestgrey no-wrap fl-no\"]/span')\n",
    "for i in tqdm(aeroplanes):\n",
    "    Aeroplane.append(i.text) \n",
    "else:\n",
    "    pass\n",
    "\n",
    "# Extracting Departure Time of Filght via Xpath\n",
    "dept_times = driver.find_elements(By.XPATH,'//div[@class=\"i-b pr\"]')\n",
    "for i in tqdm(dept_times):\n",
    "    Dept_time.append(i.text)\n",
    "else :\n",
    "    pass\n",
    "\n",
    "# Extracting Arrival Time via xpath\n",
    "arrival = driver.find_elements(By.XPATH,'//p[@class=\"bold fs-15 mb-2 pr time\"]')\n",
    "for i in tqdm(arrival):\n",
    "    Arrival_time.append(i.text)\n",
    "else :\n",
    "    pass\n",
    "\n",
    "# Extracting Source of flight via Xpath\n",
    "source = driver.find_elements(By.XPATH,\"//div[@class='i-b col-4 no-wrap text-right dtime col-3']/p\")\n",
    "for i in tqdm(source):\n",
    "    Source.append(i.text)\n",
    "else :\n",
    "    pass\n",
    "\n",
    "# Extracting Destination of Flights via Xpath\n",
    "destination = driver.find_elements(By.XPATH,'//div[@class=\"i-b pdd-0 text-left atime col-5\"]/p[2]')\n",
    "for i in tqdm(destination):\n",
    "    Destination.append(i.text)\n",
    "else:\n",
    "    pass\n",
    "\n",
    "# Extracting Duration of Flights via Xpath\n",
    "duration = driver.find_elements(By.XPATH,'//div[@class=\"stop-cont pl-13\"]/p')\n",
    "for i in tqdm(duration):\n",
    "    Duration.append(i.text)\n",
    "else:\n",
    "    pass\n",
    "\n",
    "# Extracting stop details via Xpath\n",
    "stop = driver.find_elements(By.XPATH,\"//div[@class='stop-cont pl-13']/div/span\")\n",
    "for i in tqdm(stop):\n",
    "    Stops.append(i.text)\n",
    "else:\n",
    "    pass\n",
    "\n",
    "# Extracting Price of Flights via Xpath\n",
    "count = 0\n",
    "price = driver.find_elements(By.XPATH,'//div[@class=\"i-b tipsy fare-summary-tooltip fs-18\"]')\n",
    "for i in tqdm(price):\n",
    "    Price.append(i.text.replace(',',''))\n",
    "    count = count +1\n",
    "else:\n",
    "    count = count +1\n",
    "    pass\n",
    "\n",
    "# Clicking on Flights details element\n",
    "Button = driver.find_elements(By.XPATH,'//div[@class=\"link-color fs-12 cursor-pointer\"]/span')\n",
    "driver.execute_script(\"arguments[0].click();\", WebDriverWait(driver, 20).until(EC.element_to_be_clickable((By.XPATH,'//div[@class=\"link-color fs-12 cursor-pointer\"]/span'))))\n",
    "time.sleep(0.25)\n",
    "\n",
    "# Extracting Date of Flights via Xpath\n",
    "date = driver.find_element(By.XPATH,'//div[@class=\"bold fs-12 mb-5\"]')\n",
    "a = date.text\n",
    "for i in tqdm(range(count-1)):\n",
    "    Date.append(a)\n",
    "else:\n",
    "    pass"
   ]
  },
  {
   "cell_type": "code",
   "execution_count": 46,
   "metadata": {},
   "outputs": [
    {
     "data": {
      "text/plain": [
       "(1327, 1327, 1327, 1327, 1327, 1327, 1327, 1327, 1327, 1327)"
      ]
     },
     "execution_count": 46,
     "metadata": {},
     "output_type": "execute_result"
    }
   ],
   "source": [
    "len(Aeroplane), len(Airlines), len(Dept_time), len(Arrival_time), len(Source), len(Destination), len(Duration), len(Stops),len(Price), len(Date)"
   ]
  },
  {
   "cell_type": "markdown",
   "metadata": {},
   "source": [
    "- **Opening Ecomnomy flights from New Dehli to Mumbai on 27 Sep 2022**"
   ]
  },
  {
   "cell_type": "code",
   "execution_count": 47,
   "metadata": {},
   "outputs": [],
   "source": [
    "url = \"https://flight.yatra.com/air-search-ui/dom2/trigger?ADT=1&CHD=0&INF=0&class=Economy&destination=BOM&destinationCountry=IN&flexi=0&flight_depart_date=27%2F09%2F2022&hb=&noOfSegments=1&origin=DEL&originCountry=IN&type=O&unique=1663479828083&viewName=normal\"\n",
    "driver.get(url)\n",
    "time.sleep(2)"
   ]
  },
  {
   "cell_type": "code",
   "execution_count": 48,
   "metadata": {},
   "outputs": [
    {
     "data": {
      "text/plain": [
       "168"
      ]
     },
     "execution_count": 48,
     "metadata": {},
     "output_type": "execute_result"
    }
   ],
   "source": [
    "flights=driver.find_elements(By.XPATH,'//div[@class=\"flight-det table full-width clearfix\"]')\n",
    "len(flights)"
   ]
  },
  {
   "cell_type": "code",
   "execution_count": 49,
   "metadata": {},
   "outputs": [
    {
     "name": "stderr",
     "output_type": "stream",
     "text": [
      "100%|████████████████████████████████████████████████████████████████████████████████| 168/168 [00:02<00:00, 77.18it/s]\n",
      "100%|████████████████████████████████████████████████████████████████████████████████| 168/168 [00:02<00:00, 69.04it/s]\n",
      "100%|████████████████████████████████████████████████████████████████████████████████| 168/168 [00:02<00:00, 62.52it/s]\n",
      "100%|████████████████████████████████████████████████████████████████████████████████| 168/168 [00:02<00:00, 56.34it/s]\n",
      "100%|████████████████████████████████████████████████████████████████████████████████| 168/168 [00:03<00:00, 50.97it/s]\n",
      "100%|████████████████████████████████████████████████████████████████████████████████| 168/168 [00:03<00:00, 46.18it/s]\n",
      "100%|████████████████████████████████████████████████████████████████████████████████| 168/168 [00:03<00:00, 42.51it/s]\n",
      "100%|████████████████████████████████████████████████████████████████████████████████| 168/168 [00:04<00:00, 38.81it/s]\n",
      "100%|████████████████████████████████████████████████████████████████████████████████████████| 168/168 [00:00<?, ?it/s]\n"
     ]
    }
   ],
   "source": [
    "# Extracting Airlines Name Via Xpath\n",
    "airlines = driver.find_elements(By.XPATH,\"//div[@class='fs-13 airline-name no-pad col-8']/span\")\n",
    "for i in airlines:\n",
    "    Airlines.append(i.text.replace(\"\\n\",\" \"))\n",
    "else :\n",
    "    pass\n",
    "\n",
    "# Extracting Aeroplane model  via xpath\n",
    "aeroplanes = driver.find_elements(By.XPATH,'//p[@class=\"normal fs-11 font-lightestgrey no-wrap fl-no\"]/span')\n",
    "for i in tqdm(aeroplanes):\n",
    "    Aeroplane.append(i.text) \n",
    "else:\n",
    "    pass\n",
    "\n",
    "# Extracting Departure Time of Filght via Xpath\n",
    "dept_times = driver.find_elements(By.XPATH,'//div[@class=\"i-b pr\"]')\n",
    "for i in tqdm(dept_times):\n",
    "    Dept_time.append(i.text)\n",
    "else :\n",
    "    pass\n",
    "\n",
    "# Extracting Arrival Time via xpath\n",
    "arrival = driver.find_elements(By.XPATH,'//p[@class=\"bold fs-15 mb-2 pr time\"]')\n",
    "for i in tqdm(arrival):\n",
    "    Arrival_time.append(i.text)\n",
    "else :\n",
    "    pass\n",
    "\n",
    "# Extracting Source of flight via Xpath\n",
    "source = driver.find_elements(By.XPATH,\"//div[@class='i-b col-4 no-wrap text-right dtime col-3']/p\")\n",
    "for i in tqdm(source):\n",
    "    Source.append(i.text)\n",
    "else :\n",
    "    pass\n",
    "\n",
    "# Extracting Destination of Flights via Xpath\n",
    "destination = driver.find_elements(By.XPATH,'//div[@class=\"i-b pdd-0 text-left atime col-5\"]/p[2]')\n",
    "for i in tqdm(destination):\n",
    "    Destination.append(i.text)\n",
    "else:\n",
    "    pass\n",
    "\n",
    "# Extracting Duration of Flights via Xpath\n",
    "duration = driver.find_elements(By.XPATH,'//div[@class=\"stop-cont pl-13\"]/p')\n",
    "for i in tqdm(duration):\n",
    "    Duration.append(i.text)\n",
    "else:\n",
    "    pass\n",
    "\n",
    "# Extracting stop details via Xpath\n",
    "stop = driver.find_elements(By.XPATH,\"//div[@class='stop-cont pl-13']/div/span\")\n",
    "for i in tqdm(stop):\n",
    "    Stops.append(i.text)\n",
    "else:\n",
    "    pass\n",
    "\n",
    "# Extracting Price of Flights via Xpath\n",
    "count = 0\n",
    "price = driver.find_elements(By.XPATH,'//div[@class=\"i-b tipsy fare-summary-tooltip fs-18\"]')\n",
    "for i in tqdm(price):\n",
    "    Price.append(i.text.replace(',',''))\n",
    "    count = count +1\n",
    "else:\n",
    "    count = count +1\n",
    "    pass\n",
    "\n",
    "# Clicking on Flights details element\n",
    "Button = driver.find_elements(By.XPATH,'//div[@class=\"link-color fs-12 cursor-pointer\"]/span')\n",
    "driver.execute_script(\"arguments[0].click();\", WebDriverWait(driver, 20).until(EC.element_to_be_clickable((By.XPATH,'//div[@class=\"link-color fs-12 cursor-pointer\"]/span'))))\n",
    "time.sleep(0.25)\n",
    "\n",
    "# Extracting Date of Flights via Xpath\n",
    "date = driver.find_element(By.XPATH,'//div[@class=\"bold fs-12 mb-5\"]')\n",
    "a = date.text\n",
    "for i in tqdm(range(count-1)):\n",
    "    Date.append(a)\n",
    "else:\n",
    "    pass"
   ]
  },
  {
   "cell_type": "code",
   "execution_count": 50,
   "metadata": {},
   "outputs": [
    {
     "data": {
      "text/plain": [
       "(1495, 1495, 1495, 1495, 1495, 1495, 1495, 1495, 1495, 1495)"
      ]
     },
     "execution_count": 50,
     "metadata": {},
     "output_type": "execute_result"
    }
   ],
   "source": [
    "len(Aeroplane), len(Airlines), len(Dept_time), len(Arrival_time), len(Source), len(Destination), len(Duration), len(Stops),len(Price), len(Date)"
   ]
  },
  {
   "cell_type": "markdown",
   "metadata": {},
   "source": [
    "- **Opening Ecomnomy flights from New Dehli to Mumbai on 28 Sep 2022**"
   ]
  },
  {
   "cell_type": "code",
   "execution_count": 58,
   "metadata": {},
   "outputs": [],
   "source": [
    "url = \"https://flight.yatra.com/air-search-ui/dom2/trigger?ADT=1&CHD=0&INF=0&class=Economy&destination=BOM&destinationCountry=IN&flexi=0&flight_depart_date=28%2F09%2F2022&hb=&noOfSegments=1&origin=DEL&originCountry=IN&type=O&unique=1663480053432&viewName=normal\"\n",
    "driver.get(url)\n",
    "time.sleep(2)"
   ]
  },
  {
   "cell_type": "code",
   "execution_count": 59,
   "metadata": {},
   "outputs": [
    {
     "data": {
      "text/plain": [
       "164"
      ]
     },
     "execution_count": 59,
     "metadata": {},
     "output_type": "execute_result"
    }
   ],
   "source": [
    "flights=driver.find_elements(By.XPATH,'//div[@class=\"flight-det table full-width clearfix\"]')\n",
    "len(flights)"
   ]
  },
  {
   "cell_type": "code",
   "execution_count": 60,
   "metadata": {},
   "outputs": [
    {
     "name": "stderr",
     "output_type": "stream",
     "text": [
      "100%|████████████████████████████████████████████████████████████████████████████████| 164/164 [00:02<00:00, 72.18it/s]\n",
      "100%|████████████████████████████████████████████████████████████████████████████████| 164/164 [00:02<00:00, 61.60it/s]\n",
      "100%|████████████████████████████████████████████████████████████████████████████████| 164/164 [00:02<00:00, 61.96it/s]\n",
      "100%|████████████████████████████████████████████████████████████████████████████████| 164/164 [00:02<00:00, 54.98it/s]\n",
      "100%|████████████████████████████████████████████████████████████████████████████████| 164/164 [00:03<00:00, 51.14it/s]\n",
      "100%|████████████████████████████████████████████████████████████████████████████████| 164/164 [00:03<00:00, 46.70it/s]\n",
      "100%|████████████████████████████████████████████████████████████████████████████████| 164/164 [00:03<00:00, 43.27it/s]\n",
      "100%|████████████████████████████████████████████████████████████████████████████████| 164/164 [00:04<00:00, 39.19it/s]\n",
      "100%|████████████████████████████████████████████████████████████████████████████| 164/164 [00:00<00:00, 164207.65it/s]\n"
     ]
    }
   ],
   "source": [
    "# Extracting Airlines Name Via Xpath\n",
    "airlines = driver.find_elements(By.XPATH,\"//div[@class='fs-13 airline-name no-pad col-8']/span\")\n",
    "for i in airlines:\n",
    "    Airlines.append(i.text.replace(\"\\n\",\" \"))\n",
    "else :\n",
    "    pass\n",
    "\n",
    "# Extracting Aeroplane model  via xpath\n",
    "aeroplanes = driver.find_elements(By.XPATH,'//p[@class=\"normal fs-11 font-lightestgrey no-wrap fl-no\"]/span')\n",
    "for i in tqdm(aeroplanes):\n",
    "    Aeroplane.append(i.text) \n",
    "else:\n",
    "    pass\n",
    "\n",
    "# Extracting Departure Time of Filght via Xpath\n",
    "dept_times = driver.find_elements(By.XPATH,'//div[@class=\"i-b pr\"]')\n",
    "for i in tqdm(dept_times):\n",
    "    Dept_time.append(i.text)\n",
    "else :\n",
    "    pass\n",
    "\n",
    "# Extracting Arrival Time via xpath\n",
    "arrival = driver.find_elements(By.XPATH,'//p[@class=\"bold fs-15 mb-2 pr time\"]')\n",
    "for i in tqdm(arrival):\n",
    "    Arrival_time.append(i.text)\n",
    "else :\n",
    "    pass\n",
    "\n",
    "# Extracting Source of flight via Xpath\n",
    "source = driver.find_elements(By.XPATH,\"//div[@class='i-b col-4 no-wrap text-right dtime col-3']/p\")\n",
    "for i in tqdm(source):\n",
    "    Source.append(i.text)\n",
    "else :\n",
    "    pass\n",
    "\n",
    "# Extracting Destination of Flights via Xpath\n",
    "destination = driver.find_elements(By.XPATH,'//div[@class=\"i-b pdd-0 text-left atime col-5\"]/p[2]')\n",
    "for i in tqdm(destination):\n",
    "    Destination.append(i.text)\n",
    "else:\n",
    "    pass\n",
    "\n",
    "# Extracting Duration of Flights via Xpath\n",
    "duration = driver.find_elements(By.XPATH,'//div[@class=\"stop-cont pl-13\"]/p')\n",
    "for i in tqdm(duration):\n",
    "    Duration.append(i.text)\n",
    "else:\n",
    "    pass\n",
    "\n",
    "# Extracting stop details via Xpath\n",
    "stop = driver.find_elements(By.XPATH,\"//div[@class='stop-cont pl-13']/div/span\")\n",
    "for i in tqdm(stop):\n",
    "    Stops.append(i.text)\n",
    "else:\n",
    "    pass\n",
    "\n",
    "# Extracting Price of Flights via Xpath\n",
    "count = 0\n",
    "price = driver.find_elements(By.XPATH,'//div[@class=\"i-b tipsy fare-summary-tooltip fs-18\"]')\n",
    "for i in tqdm(price):\n",
    "    Price.append(i.text.replace(',',''))\n",
    "    count = count +1\n",
    "else:\n",
    "    count = count +1\n",
    "    pass\n",
    "\n",
    "# Clicking on Flights details element\n",
    "Button = driver.find_elements(By.XPATH,'//div[@class=\"link-color fs-12 cursor-pointer\"]/span')\n",
    "driver.execute_script(\"arguments[0].click();\", WebDriverWait(driver, 20).until(EC.element_to_be_clickable((By.XPATH,'//div[@class=\"link-color fs-12 cursor-pointer\"]/span'))))\n",
    "time.sleep(0.25)\n",
    "\n",
    "# Extracting Date of Flights via Xpath\n",
    "date = driver.find_element(By.XPATH,'//div[@class=\"bold fs-12 mb-5\"]')\n",
    "a = date.text\n",
    "for i in tqdm(range(count-1)):\n",
    "    Date.append(a)\n",
    "else:\n",
    "    pass"
   ]
  },
  {
   "cell_type": "code",
   "execution_count": 61,
   "metadata": {},
   "outputs": [
    {
     "data": {
      "text/plain": [
       "(1659, 1659, 1659, 1659, 1659, 1659, 1659, 1659, 1659, 1659)"
      ]
     },
     "execution_count": 61,
     "metadata": {},
     "output_type": "execute_result"
    }
   ],
   "source": [
    "len(Aeroplane), len(Airlines), len(Dept_time), len(Arrival_time), len(Source), len(Destination), len(Duration), len(Stops),len(Price), len(Date)"
   ]
  },
  {
   "cell_type": "markdown",
   "metadata": {},
   "source": [
    "- **Opening Ecomnomy flights from New Dehli to Mumbai on 29 Sep 2022**"
   ]
  },
  {
   "cell_type": "code",
   "execution_count": 62,
   "metadata": {},
   "outputs": [],
   "source": [
    "url = \"https://flight.yatra.com/air-search-ui/dom2/trigger?ADT=1&CHD=0&INF=0&class=Economy&destination=BOM&destinationCountry=IN&flexi=0&flight_depart_date=29%2F09%2F2022&hb=&noOfSegments=1&origin=DEL&originCountry=IN&type=O&unique=1663481423725&viewName=normal\"\n",
    "driver.get(url)\n",
    "time.sleep(2)"
   ]
  },
  {
   "cell_type": "code",
   "execution_count": 63,
   "metadata": {},
   "outputs": [
    {
     "data": {
      "text/plain": [
       "165"
      ]
     },
     "execution_count": 63,
     "metadata": {},
     "output_type": "execute_result"
    }
   ],
   "source": [
    "flights=driver.find_elements(By.XPATH,'//div[@class=\"flight-det table full-width clearfix\"]')\n",
    "len(flights)"
   ]
  },
  {
   "cell_type": "code",
   "execution_count": 64,
   "metadata": {},
   "outputs": [
    {
     "name": "stderr",
     "output_type": "stream",
     "text": [
      "100%|████████████████████████████████████████████████████████████████████████████████| 165/165 [00:02<00:00, 80.95it/s]\n",
      "100%|████████████████████████████████████████████████████████████████████████████████| 165/165 [00:02<00:00, 69.19it/s]\n",
      "100%|████████████████████████████████████████████████████████████████████████████████| 165/165 [00:02<00:00, 61.48it/s]\n",
      "100%|████████████████████████████████████████████████████████████████████████████████| 165/165 [00:02<00:00, 56.43it/s]\n",
      "100%|████████████████████████████████████████████████████████████████████████████████| 165/165 [00:03<00:00, 50.27it/s]\n",
      "100%|████████████████████████████████████████████████████████████████████████████████| 165/165 [00:03<00:00, 46.56it/s]\n",
      "100%|████████████████████████████████████████████████████████████████████████████████| 165/165 [00:03<00:00, 43.17it/s]\n",
      "100%|████████████████████████████████████████████████████████████████████████████████| 165/165 [00:04<00:00, 39.30it/s]\n",
      "100%|████████████████████████████████████████████████████████████████████████████████████████| 165/165 [00:00<?, ?it/s]\n"
     ]
    }
   ],
   "source": [
    "# Extracting Airlines Name Via Xpath\n",
    "airlines = driver.find_elements(By.XPATH,\"//div[@class='fs-13 airline-name no-pad col-8']/span\")\n",
    "for i in airlines:\n",
    "    Airlines.append(i.text.replace(\"\\n\",\" \"))\n",
    "else :\n",
    "    pass\n",
    "\n",
    "# Extracting Aeroplane model  via xpath\n",
    "aeroplanes = driver.find_elements(By.XPATH,'//p[@class=\"normal fs-11 font-lightestgrey no-wrap fl-no\"]/span')\n",
    "for i in tqdm(aeroplanes):\n",
    "    Aeroplane.append(i.text) \n",
    "else:\n",
    "    pass\n",
    "\n",
    "# Extracting Departure Time of Filght via Xpath\n",
    "dept_times = driver.find_elements(By.XPATH,'//div[@class=\"i-b pr\"]')\n",
    "for i in tqdm(dept_times):\n",
    "    Dept_time.append(i.text)\n",
    "else :\n",
    "    pass\n",
    "\n",
    "# Extracting Arrival Time via xpath\n",
    "arrival = driver.find_elements(By.XPATH,'//p[@class=\"bold fs-15 mb-2 pr time\"]')\n",
    "for i in tqdm(arrival):\n",
    "    Arrival_time.append(i.text)\n",
    "else :\n",
    "    pass\n",
    "\n",
    "# Extracting Source of flight via Xpath\n",
    "source = driver.find_elements(By.XPATH,\"//div[@class='i-b col-4 no-wrap text-right dtime col-3']/p\")\n",
    "for i in tqdm(source):\n",
    "    Source.append(i.text)\n",
    "else :\n",
    "    pass\n",
    "\n",
    "# Extracting Destination of Flights via Xpath\n",
    "destination = driver.find_elements(By.XPATH,'//div[@class=\"i-b pdd-0 text-left atime col-5\"]/p[2]')\n",
    "for i in tqdm(destination):\n",
    "    Destination.append(i.text)\n",
    "else:\n",
    "    pass\n",
    "\n",
    "# Extracting Duration of Flights via Xpath\n",
    "duration = driver.find_elements(By.XPATH,'//div[@class=\"stop-cont pl-13\"]/p')\n",
    "for i in tqdm(duration):\n",
    "    Duration.append(i.text)\n",
    "else:\n",
    "    pass\n",
    "\n",
    "# Extracting stop details via Xpath\n",
    "stop = driver.find_elements(By.XPATH,\"//div[@class='stop-cont pl-13']/div/span\")\n",
    "for i in tqdm(stop):\n",
    "    Stops.append(i.text)\n",
    "else:\n",
    "    pass\n",
    "\n",
    "# Extracting Price of Flights via Xpath\n",
    "count = 0\n",
    "price = driver.find_elements(By.XPATH,'//div[@class=\"i-b tipsy fare-summary-tooltip fs-18\"]')\n",
    "for i in tqdm(price):\n",
    "    Price.append(i.text.replace(',',''))\n",
    "    count = count +1\n",
    "else:\n",
    "    count = count +1\n",
    "    pass\n",
    "\n",
    "# Clicking on Flights details element\n",
    "Button = driver.find_elements(By.XPATH,'//div[@class=\"link-color fs-12 cursor-pointer\"]/span')\n",
    "driver.execute_script(\"arguments[0].click();\", WebDriverWait(driver, 20).until(EC.element_to_be_clickable((By.XPATH,'//div[@class=\"link-color fs-12 cursor-pointer\"]/span'))))\n",
    "time.sleep(0.25)\n",
    "\n",
    "# Extracting Date of Flights via Xpath\n",
    "date = driver.find_element(By.XPATH,'//div[@class=\"bold fs-12 mb-5\"]')\n",
    "a = date.text\n",
    "for i in tqdm(range(count-1)):\n",
    "    Date.append(a)\n",
    "else:\n",
    "    pass"
   ]
  },
  {
   "cell_type": "code",
   "execution_count": 65,
   "metadata": {},
   "outputs": [
    {
     "data": {
      "text/plain": [
       "(1824, 1824, 1824, 1824, 1824, 1824, 1824, 1824, 1824, 1824)"
      ]
     },
     "execution_count": 65,
     "metadata": {},
     "output_type": "execute_result"
    }
   ],
   "source": [
    "len(Aeroplane), len(Airlines), len(Dept_time), len(Arrival_time), len(Source), len(Destination), len(Duration), len(Stops),len(Price), len(Date)"
   ]
  },
  {
   "cell_type": "markdown",
   "metadata": {},
   "source": [
    "- **Opening Ecomnomy flights from New Dehli to Mumbai on 30 Sep 2022**"
   ]
  },
  {
   "cell_type": "code",
   "execution_count": 66,
   "metadata": {},
   "outputs": [],
   "source": [
    "url = \"https://flight.yatra.com/air-search-ui/dom2/trigger?ADT=1&CHD=0&INF=0&class=Economy&destination=BOM&destinationCountry=IN&flexi=0&flight_depart_date=30%2F09%2F2022&hb=&noOfSegments=1&origin=DEL&originCountry=IN&type=O&unique=1663481684614&viewName=normal\"\n",
    "driver.get(url)\n",
    "time.sleep(2)"
   ]
  },
  {
   "cell_type": "code",
   "execution_count": 67,
   "metadata": {},
   "outputs": [
    {
     "data": {
      "text/plain": [
       "170"
      ]
     },
     "execution_count": 67,
     "metadata": {},
     "output_type": "execute_result"
    }
   ],
   "source": [
    "flights=driver.find_elements(By.XPATH,'//div[@class=\"flight-det table full-width clearfix\"]')\n",
    "len(flights)"
   ]
  },
  {
   "cell_type": "code",
   "execution_count": 68,
   "metadata": {},
   "outputs": [
    {
     "name": "stderr",
     "output_type": "stream",
     "text": [
      "100%|████████████████████████████████████████████████████████████████████████████████| 170/170 [00:02<00:00, 81.15it/s]\n",
      "100%|████████████████████████████████████████████████████████████████████████████████| 170/170 [00:02<00:00, 68.79it/s]\n",
      "100%|████████████████████████████████████████████████████████████████████████████████| 170/170 [00:02<00:00, 61.54it/s]\n",
      "100%|████████████████████████████████████████████████████████████████████████████████| 170/170 [00:03<00:00, 53.97it/s]\n",
      "100%|████████████████████████████████████████████████████████████████████████████████| 170/170 [00:03<00:00, 49.69it/s]\n",
      "100%|████████████████████████████████████████████████████████████████████████████████| 170/170 [00:03<00:00, 45.85it/s]\n",
      "100%|████████████████████████████████████████████████████████████████████████████████| 170/170 [00:03<00:00, 42.75it/s]\n",
      "100%|████████████████████████████████████████████████████████████████████████████████| 170/170 [00:04<00:00, 38.69it/s]\n",
      "100%|████████████████████████████████████████████████████████████████████████████████████████| 170/170 [00:00<?, ?it/s]\n"
     ]
    }
   ],
   "source": [
    "# Extracting Airlines Name Via Xpath\n",
    "airlines = driver.find_elements(By.XPATH,\"//div[@class='fs-13 airline-name no-pad col-8']/span\")\n",
    "for i in airlines:\n",
    "    Airlines.append(i.text.replace(\"\\n\",\" \"))\n",
    "else :\n",
    "    pass\n",
    "\n",
    "# Extracting Aeroplane model  via xpath\n",
    "aeroplanes = driver.find_elements(By.XPATH,'//p[@class=\"normal fs-11 font-lightestgrey no-wrap fl-no\"]/span')\n",
    "for i in tqdm(aeroplanes):\n",
    "    Aeroplane.append(i.text) \n",
    "else:\n",
    "    pass\n",
    "\n",
    "# Extracting Departure Time of Filght via Xpath\n",
    "dept_times = driver.find_elements(By.XPATH,'//div[@class=\"i-b pr\"]')\n",
    "for i in tqdm(dept_times):\n",
    "    Dept_time.append(i.text)\n",
    "else :\n",
    "    pass\n",
    "\n",
    "# Extracting Arrival Time via xpath\n",
    "arrival = driver.find_elements(By.XPATH,'//p[@class=\"bold fs-15 mb-2 pr time\"]')\n",
    "for i in tqdm(arrival):\n",
    "    Arrival_time.append(i.text)\n",
    "else :\n",
    "    pass\n",
    "\n",
    "# Extracting Source of flight via Xpath\n",
    "source = driver.find_elements(By.XPATH,\"//div[@class='i-b col-4 no-wrap text-right dtime col-3']/p\")\n",
    "for i in tqdm(source):\n",
    "    Source.append(i.text)\n",
    "else :\n",
    "    pass\n",
    "\n",
    "# Extracting Destination of Flights via Xpath\n",
    "destination = driver.find_elements(By.XPATH,'//div[@class=\"i-b pdd-0 text-left atime col-5\"]/p[2]')\n",
    "for i in tqdm(destination):\n",
    "    Destination.append(i.text)\n",
    "else:\n",
    "    pass\n",
    "\n",
    "# Extracting Duration of Flights via Xpath\n",
    "duration = driver.find_elements(By.XPATH,'//div[@class=\"stop-cont pl-13\"]/p')\n",
    "for i in tqdm(duration):\n",
    "    Duration.append(i.text)\n",
    "else:\n",
    "    pass\n",
    "\n",
    "# Extracting stop details via Xpath\n",
    "stop = driver.find_elements(By.XPATH,\"//div[@class='stop-cont pl-13']/div/span\")\n",
    "for i in tqdm(stop):\n",
    "    Stops.append(i.text)\n",
    "else:\n",
    "    pass\n",
    "\n",
    "# Extracting Price of Flights via Xpath\n",
    "count = 0\n",
    "price = driver.find_elements(By.XPATH,'//div[@class=\"i-b tipsy fare-summary-tooltip fs-18\"]')\n",
    "for i in tqdm(price):\n",
    "    Price.append(i.text.replace(',',''))\n",
    "    count = count +1\n",
    "else:\n",
    "    count = count +1\n",
    "    pass\n",
    "\n",
    "# Clicking on Flights details element\n",
    "Button = driver.find_elements(By.XPATH,'//div[@class=\"link-color fs-12 cursor-pointer\"]/span')\n",
    "driver.execute_script(\"arguments[0].click();\", WebDriverWait(driver, 20).until(EC.element_to_be_clickable((By.XPATH,'//div[@class=\"link-color fs-12 cursor-pointer\"]/span'))))\n",
    "time.sleep(0.25)\n",
    "\n",
    "# Extracting Date of Flights via Xpath\n",
    "date = driver.find_element(By.XPATH,'//div[@class=\"bold fs-12 mb-5\"]')\n",
    "a = date.text\n",
    "for i in tqdm(range(count-1)):\n",
    "    Date.append(a)\n",
    "else:\n",
    "    pass"
   ]
  },
  {
   "cell_type": "code",
   "execution_count": 69,
   "metadata": {},
   "outputs": [
    {
     "data": {
      "text/plain": [
       "(1994, 1994, 1994, 1994, 1994, 1994, 1994, 1994, 1994, 1994)"
      ]
     },
     "execution_count": 69,
     "metadata": {},
     "output_type": "execute_result"
    }
   ],
   "source": [
    "len(Aeroplane), len(Airlines), len(Dept_time), len(Arrival_time), len(Source), len(Destination), len(Duration), len(Stops),len(Price), len(Date)"
   ]
  },
  {
   "cell_type": "code",
   "execution_count": null,
   "metadata": {},
   "outputs": [],
   "source": []
  },
  {
   "cell_type": "markdown",
   "metadata": {},
   "source": [
    "## **2. Extracting Business flights from Varanasi to New Dehli**"
   ]
  },
  {
   "cell_type": "markdown",
   "metadata": {},
   "source": [
    "- **Opening Business flights from Varanasi to New Dehli on 19 Sep 2022**"
   ]
  },
  {
   "cell_type": "code",
   "execution_count": 71,
   "metadata": {},
   "outputs": [],
   "source": [
    "url = \"https://flight.yatra.com/air-search-ui/dom2/trigger?type=O&viewName=normal&flexi=0&noOfSegments=1&origin=VNS&originCountry=IN&destination=DEL&destinationCountry=IN&flight_depart_date=19%2F09%2F2022&ADT=1&CHD=0&INF=0&class=Economy&source=fresco-home&unqvaldesktop=760535165220\"\n",
    "driver.get(url)\n",
    "time.sleep(2)"
   ]
  },
  {
   "cell_type": "code",
   "execution_count": 72,
   "metadata": {},
   "outputs": [
    {
     "data": {
      "text/plain": [
       "36"
      ]
     },
     "execution_count": 72,
     "metadata": {},
     "output_type": "execute_result"
    }
   ],
   "source": [
    "flights=driver.find_elements(By.XPATH,'//div[@class=\"flight-det table full-width clearfix\"]')\n",
    "len(flights)"
   ]
  },
  {
   "cell_type": "code",
   "execution_count": 73,
   "metadata": {},
   "outputs": [
    {
     "name": "stderr",
     "output_type": "stream",
     "text": [
      "100%|██████████████████████████████████████████████████████████████████████████████████| 36/36 [00:00<00:00, 93.27it/s]\n",
      "100%|██████████████████████████████████████████████████████████████████████████████████| 36/36 [00:00<00:00, 87.49it/s]\n",
      "100%|██████████████████████████████████████████████████████████████████████████████████| 36/36 [00:00<00:00, 85.31it/s]\n",
      "100%|██████████████████████████████████████████████████████████████████████████████████| 36/36 [00:00<00:00, 82.19it/s]\n",
      "100%|██████████████████████████████████████████████████████████████████████████████████| 36/36 [00:00<00:00, 82.95it/s]\n",
      "100%|██████████████████████████████████████████████████████████████████████████████████| 36/36 [00:00<00:00, 80.90it/s]\n",
      "100%|██████████████████████████████████████████████████████████████████████████████████| 36/36 [00:00<00:00, 76.92it/s]\n",
      "100%|██████████████████████████████████████████████████████████████████████████████████| 36/36 [00:00<00:00, 72.29it/s]\n",
      "100%|██████████████████████████████████████████████████████████████████████████████████████████| 36/36 [00:00<?, ?it/s]\n"
     ]
    }
   ],
   "source": [
    "# Extracting Airlines Name Via Xpath\n",
    "airlines = driver.find_elements(By.XPATH,\"//div[@class='fs-13 airline-name no-pad col-8']/span\")\n",
    "for i in airlines:\n",
    "    Airlines.append(i.text.replace(\"\\n\",\" \"))\n",
    "else :\n",
    "    pass\n",
    "\n",
    "# Extracting Aeroplane model  via xpath\n",
    "aeroplanes = driver.find_elements(By.XPATH,'//p[@class=\"normal fs-11 font-lightestgrey no-wrap fl-no\"]/span')\n",
    "for i in tqdm(aeroplanes):\n",
    "    Aeroplane.append(i.text) \n",
    "else:\n",
    "    pass\n",
    "\n",
    "# Extracting Departure Time of Filght via Xpath\n",
    "dept_times = driver.find_elements(By.XPATH,'//div[@class=\"i-b pr\"]')\n",
    "for i in tqdm(dept_times):\n",
    "    Dept_time.append(i.text)\n",
    "else :\n",
    "    pass\n",
    "\n",
    "# Extracting Arrival Time via xpath\n",
    "arrival = driver.find_elements(By.XPATH,'//p[@class=\"bold fs-15 mb-2 pr time\"]')\n",
    "for i in tqdm(arrival):\n",
    "    Arrival_time.append(i.text)\n",
    "else :\n",
    "    pass\n",
    "\n",
    "# Extracting Source of flight via Xpath\n",
    "source = driver.find_elements(By.XPATH,\"//div[@class='i-b col-4 no-wrap text-right dtime col-3']/p\")\n",
    "for i in tqdm(source):\n",
    "    Source.append(i.text)\n",
    "else :\n",
    "    pass\n",
    "\n",
    "# Extracting Destination of Flights via Xpath\n",
    "destination = driver.find_elements(By.XPATH,'//div[@class=\"i-b pdd-0 text-left atime col-5\"]/p[2]')\n",
    "for i in tqdm(destination):\n",
    "    Destination.append(i.text)\n",
    "else:\n",
    "    pass\n",
    "\n",
    "# Extracting Duration of Flights via Xpath\n",
    "duration = driver.find_elements(By.XPATH,'//div[@class=\"stop-cont pl-13\"]/p')\n",
    "for i in tqdm(duration):\n",
    "    Duration.append(i.text)\n",
    "else:\n",
    "    pass\n",
    "\n",
    "# Extracting stop details via Xpath\n",
    "stop = driver.find_elements(By.XPATH,\"//div[@class='stop-cont pl-13']/div/span\")\n",
    "for i in tqdm(stop):\n",
    "    Stops.append(i.text)\n",
    "else:\n",
    "    pass\n",
    "\n",
    "# Extracting Price of Flights via Xpath\n",
    "count = 0\n",
    "price = driver.find_elements(By.XPATH,'//div[@class=\"i-b tipsy fare-summary-tooltip fs-18\"]')\n",
    "for i in tqdm(price):\n",
    "    Price.append(i.text.replace(',',''))\n",
    "    count = count +1\n",
    "else:\n",
    "    count = count +1\n",
    "    pass\n",
    "\n",
    "# Clicking on Flights details element\n",
    "Button = driver.find_elements(By.XPATH,'//div[@class=\"link-color fs-12 cursor-pointer\"]/span')\n",
    "driver.execute_script(\"arguments[0].click();\", WebDriverWait(driver, 20).until(EC.element_to_be_clickable((By.XPATH,'//div[@class=\"link-color fs-12 cursor-pointer\"]/span'))))\n",
    "time.sleep(0.25)\n",
    "\n",
    "# Extracting Date of Flights via Xpath\n",
    "date = driver.find_element(By.XPATH,'//div[@class=\"bold fs-12 mb-5\"]')\n",
    "a = date.text\n",
    "for i in tqdm(range(count-1)):\n",
    "    Date.append(a)\n",
    "else:\n",
    "    pass"
   ]
  },
  {
   "cell_type": "code",
   "execution_count": 74,
   "metadata": {},
   "outputs": [
    {
     "data": {
      "text/plain": [
       "(2030, 2030, 2030, 2030, 2030, 2030, 2030, 2030, 2030, 2030)"
      ]
     },
     "execution_count": 74,
     "metadata": {},
     "output_type": "execute_result"
    }
   ],
   "source": [
    "len(Aeroplane), len(Airlines), len(Dept_time), len(Arrival_time), len(Source), len(Destination), len(Duration), len(Stops),len(Price), len(Date)"
   ]
  },
  {
   "cell_type": "code",
   "execution_count": 75,
   "metadata": {},
   "outputs": [
    {
     "data": {
      "text/plain": [
       "(2030, 2030, 2030, 2030, 2030, 2030, 2030, 2030, 2030, 2030)"
      ]
     },
     "execution_count": 75,
     "metadata": {},
     "output_type": "execute_result"
    }
   ],
   "source": [
    "len(Aeroplane), len(Airlines), len(Dept_time), len(Arrival_time), len(Source), len(Destination), len(Duration), len(Stops),len(Price), len(Date)"
   ]
  },
  {
   "cell_type": "markdown",
   "metadata": {},
   "source": [
    "- **Opening Business flights from Varanasi to New Dehli  on 20 Sep 2022**"
   ]
  },
  {
   "cell_type": "code",
   "execution_count": 76,
   "metadata": {},
   "outputs": [],
   "source": [
    "url = \"https://flight.yatra.com/air-search-ui/dom2/trigger?ADT=1&CHD=0&INF=0&class=Economy&destination=DEL&destinationCountry=IN&flexi=0&flight_depart_date=20%2F09%2F2022&hb=&noOfSegments=1&origin=VNS&originCountry=IN&type=O&unique=1663483799064&viewName=normal\"\n",
    "driver.get(url)\n",
    "time.sleep(2)"
   ]
  },
  {
   "cell_type": "code",
   "execution_count": 77,
   "metadata": {},
   "outputs": [
    {
     "data": {
      "text/plain": [
       "36"
      ]
     },
     "execution_count": 77,
     "metadata": {},
     "output_type": "execute_result"
    }
   ],
   "source": [
    "flights=driver.find_elements(By.XPATH,'//div[@class=\"flight-det table full-width clearfix\"]')\n",
    "len(flights)"
   ]
  },
  {
   "cell_type": "code",
   "execution_count": 78,
   "metadata": {},
   "outputs": [
    {
     "name": "stderr",
     "output_type": "stream",
     "text": [
      "100%|██████████████████████████████████████████████████████████████████████████████████| 36/36 [00:00<00:00, 92.31it/s]\n",
      "100%|██████████████████████████████████████████████████████████████████████████████████| 36/36 [00:00<00:00, 91.84it/s]\n",
      "100%|██████████████████████████████████████████████████████████████████████████████████| 36/36 [00:00<00:00, 83.72it/s]\n",
      "100%|██████████████████████████████████████████████████████████████████████████████████| 36/36 [00:00<00:00, 86.75it/s]\n",
      "100%|██████████████████████████████████████████████████████████████████████████████████| 36/36 [00:00<00:00, 82.85it/s]\n",
      "100%|██████████████████████████████████████████████████████████████████████████████████| 36/36 [00:00<00:00, 82.00it/s]\n",
      "100%|██████████████████████████████████████████████████████████████████████████████████| 36/36 [00:00<00:00, 78.60it/s]\n",
      "100%|██████████████████████████████████████████████████████████████████████████████████| 36/36 [00:00<00:00, 73.62it/s]\n",
      "100%|██████████████████████████████████████████████████████████████████████████████████████████| 36/36 [00:00<?, ?it/s]\n"
     ]
    }
   ],
   "source": [
    "# Extracting Airlines Name Via Xpath\n",
    "airlines = driver.find_elements(By.XPATH,\"//div[@class='fs-13 airline-name no-pad col-8']/span\")\n",
    "for i in airlines:\n",
    "    Airlines.append(i.text.replace(\"\\n\",\" \"))\n",
    "else :\n",
    "    pass\n",
    "\n",
    "# Extracting Aeroplane model  via xpath\n",
    "aeroplanes = driver.find_elements(By.XPATH,'//p[@class=\"normal fs-11 font-lightestgrey no-wrap fl-no\"]/span')\n",
    "for i in tqdm(aeroplanes):\n",
    "    Aeroplane.append(i.text) \n",
    "else:\n",
    "    pass\n",
    "\n",
    "# Extracting Departure Time of Filght via Xpath\n",
    "dept_times = driver.find_elements(By.XPATH,'//div[@class=\"i-b pr\"]')\n",
    "for i in tqdm(dept_times):\n",
    "    Dept_time.append(i.text)\n",
    "else :\n",
    "    pass\n",
    "\n",
    "# Extracting Arrival Time via xpath\n",
    "arrival = driver.find_elements(By.XPATH,'//p[@class=\"bold fs-15 mb-2 pr time\"]')\n",
    "for i in tqdm(arrival):\n",
    "    Arrival_time.append(i.text)\n",
    "else :\n",
    "    pass\n",
    "\n",
    "# Extracting Source of flight via Xpath\n",
    "source = driver.find_elements(By.XPATH,\"//div[@class='i-b col-4 no-wrap text-right dtime col-3']/p\")\n",
    "for i in tqdm(source):\n",
    "    Source.append(i.text)\n",
    "else :\n",
    "    pass\n",
    "\n",
    "# Extracting Destination of Flights via Xpath\n",
    "destination = driver.find_elements(By.XPATH,'//div[@class=\"i-b pdd-0 text-left atime col-5\"]/p[2]')\n",
    "for i in tqdm(destination):\n",
    "    Destination.append(i.text)\n",
    "else:\n",
    "    pass\n",
    "\n",
    "# Extracting Duration of Flights via Xpath\n",
    "duration = driver.find_elements(By.XPATH,'//div[@class=\"stop-cont pl-13\"]/p')\n",
    "for i in tqdm(duration):\n",
    "    Duration.append(i.text)\n",
    "else:\n",
    "    pass\n",
    "\n",
    "# Extracting stop details via Xpath\n",
    "stop = driver.find_elements(By.XPATH,\"//div[@class='stop-cont pl-13']/div/span\")\n",
    "for i in tqdm(stop):\n",
    "    Stops.append(i.text)\n",
    "else:\n",
    "    pass\n",
    "\n",
    "# Extracting Price of Flights via Xpath\n",
    "count = 0\n",
    "price = driver.find_elements(By.XPATH,'//div[@class=\"i-b tipsy fare-summary-tooltip fs-18\"]')\n",
    "for i in tqdm(price):\n",
    "    Price.append(i.text.replace(',',''))\n",
    "    count = count +1\n",
    "else:\n",
    "    count = count +1\n",
    "    pass\n",
    "\n",
    "# Clicking on Flights details element\n",
    "Button = driver.find_elements(By.XPATH,'//div[@class=\"link-color fs-12 cursor-pointer\"]/span')\n",
    "driver.execute_script(\"arguments[0].click();\", WebDriverWait(driver, 20).until(EC.element_to_be_clickable((By.XPATH,'//div[@class=\"link-color fs-12 cursor-pointer\"]/span'))))\n",
    "time.sleep(0.25)\n",
    "\n",
    "# Extracting Date of Flights via Xpath\n",
    "date = driver.find_element(By.XPATH,'//div[@class=\"bold fs-12 mb-5\"]')\n",
    "a = date.text\n",
    "for i in tqdm(range(count-1)):\n",
    "    Date.append(a)\n",
    "else:\n",
    "    pass"
   ]
  },
  {
   "cell_type": "code",
   "execution_count": 79,
   "metadata": {},
   "outputs": [
    {
     "data": {
      "text/plain": [
       "(2066, 2066, 2066, 2066, 2066, 2066, 2066, 2066, 2066, 2066)"
      ]
     },
     "execution_count": 79,
     "metadata": {},
     "output_type": "execute_result"
    }
   ],
   "source": [
    "len(Aeroplane), len(Airlines), len(Dept_time), len(Arrival_time), len(Source), len(Destination), len(Duration), len(Stops),len(Price), len(Date)"
   ]
  },
  {
   "cell_type": "markdown",
   "metadata": {},
   "source": [
    "- **Opening Business flights from Varanasi to New Dehli  on 21 Sep 2022**"
   ]
  },
  {
   "cell_type": "code",
   "execution_count": 80,
   "metadata": {},
   "outputs": [],
   "source": [
    "url = \"https://flight.yatra.com/air-search-ui/dom2/trigger?ADT=1&CHD=0&INF=0&class=Economy&destination=DEL&destinationCountry=IN&flexi=0&flight_depart_date=21%2F09%2F2022&hb=&noOfSegments=1&origin=VNS&originCountry=IN&type=O&unique=1663484015375&viewName=normal\"\n",
    "driver.get(url)\n",
    "time.sleep(2)"
   ]
  },
  {
   "cell_type": "code",
   "execution_count": 81,
   "metadata": {},
   "outputs": [
    {
     "data": {
      "text/plain": [
       "35"
      ]
     },
     "execution_count": 81,
     "metadata": {},
     "output_type": "execute_result"
    }
   ],
   "source": [
    "flights=driver.find_elements(By.XPATH,'//div[@class=\"flight-det table full-width clearfix\"]')\n",
    "len(flights)"
   ]
  },
  {
   "cell_type": "code",
   "execution_count": 82,
   "metadata": {},
   "outputs": [
    {
     "name": "stderr",
     "output_type": "stream",
     "text": [
      "100%|██████████████████████████████████████████████████████████████████████████████████| 35/35 [00:00<00:00, 94.59it/s]\n",
      "100%|██████████████████████████████████████████████████████████████████████████████████| 35/35 [00:00<00:00, 88.38it/s]\n",
      "100%|██████████████████████████████████████████████████████████████████████████████████| 35/35 [00:00<00:00, 88.61it/s]\n",
      "100%|██████████████████████████████████████████████████████████████████████████████████| 35/35 [00:00<00:00, 86.63it/s]\n",
      "100%|██████████████████████████████████████████████████████████████████████████████████| 35/35 [00:00<00:00, 84.54it/s]\n",
      "100%|██████████████████████████████████████████████████████████████████████████████████| 35/35 [00:00<00:00, 82.35it/s]\n",
      "100%|██████████████████████████████████████████████████████████████████████████████████| 35/35 [00:00<00:00, 79.01it/s]\n",
      "100%|██████████████████████████████████████████████████████████████████████████████████| 35/35 [00:00<00:00, 73.72it/s]\n",
      "100%|██████████████████████████████████████████████████████████████████████████████████████████| 35/35 [00:00<?, ?it/s]\n"
     ]
    }
   ],
   "source": [
    "# Extracting Airlines Name Via Xpath\n",
    "airlines = driver.find_elements(By.XPATH,\"//div[@class='fs-13 airline-name no-pad col-8']/span\")\n",
    "for i in airlines:\n",
    "    Airlines.append(i.text.replace(\"\\n\",\" \"))\n",
    "else :\n",
    "    pass\n",
    "\n",
    "# Extracting Aeroplane model  via xpath\n",
    "aeroplanes = driver.find_elements(By.XPATH,'//p[@class=\"normal fs-11 font-lightestgrey no-wrap fl-no\"]/span')\n",
    "for i in tqdm(aeroplanes):\n",
    "    Aeroplane.append(i.text) \n",
    "else:\n",
    "    pass\n",
    "\n",
    "# Extracting Departure Time of Filght via Xpath\n",
    "dept_times = driver.find_elements(By.XPATH,'//div[@class=\"i-b pr\"]')\n",
    "for i in tqdm(dept_times):\n",
    "    Dept_time.append(i.text)\n",
    "else :\n",
    "    pass\n",
    "\n",
    "# Extracting Arrival Time via xpath\n",
    "arrival = driver.find_elements(By.XPATH,'//p[@class=\"bold fs-15 mb-2 pr time\"]')\n",
    "for i in tqdm(arrival):\n",
    "    Arrival_time.append(i.text)\n",
    "else :\n",
    "    pass\n",
    "\n",
    "# Extracting Source of flight via Xpath\n",
    "source = driver.find_elements(By.XPATH,\"//div[@class='i-b col-4 no-wrap text-right dtime col-3']/p\")\n",
    "for i in tqdm(source):\n",
    "    Source.append(i.text)\n",
    "else :\n",
    "    pass\n",
    "\n",
    "# Extracting Destination of Flights via Xpath\n",
    "destination = driver.find_elements(By.XPATH,'//div[@class=\"i-b pdd-0 text-left atime col-5\"]/p[2]')\n",
    "for i in tqdm(destination):\n",
    "    Destination.append(i.text)\n",
    "else:\n",
    "    pass\n",
    "\n",
    "# Extracting Duration of Flights via Xpath\n",
    "duration = driver.find_elements(By.XPATH,'//div[@class=\"stop-cont pl-13\"]/p')\n",
    "for i in tqdm(duration):\n",
    "    Duration.append(i.text)\n",
    "else:\n",
    "    pass\n",
    "\n",
    "# Extracting stop details via Xpath\n",
    "stop = driver.find_elements(By.XPATH,\"//div[@class='stop-cont pl-13']/div/span\")\n",
    "for i in tqdm(stop):\n",
    "    Stops.append(i.text)\n",
    "else:\n",
    "    pass\n",
    "\n",
    "# Extracting Price of Flights via Xpath\n",
    "count = 0\n",
    "price = driver.find_elements(By.XPATH,'//div[@class=\"i-b tipsy fare-summary-tooltip fs-18\"]')\n",
    "for i in tqdm(price):\n",
    "    Price.append(i.text.replace(',',''))\n",
    "    count = count +1\n",
    "else:\n",
    "    count = count +1\n",
    "    pass\n",
    "\n",
    "# Clicking on Flights details element\n",
    "Button = driver.find_elements(By.XPATH,'//div[@class=\"link-color fs-12 cursor-pointer\"]/span')\n",
    "driver.execute_script(\"arguments[0].click();\", WebDriverWait(driver, 20).until(EC.element_to_be_clickable((By.XPATH,'//div[@class=\"link-color fs-12 cursor-pointer\"]/span'))))\n",
    "time.sleep(0.25)\n",
    "\n",
    "# Extracting Date of Flights via Xpath\n",
    "date = driver.find_element(By.XPATH,'//div[@class=\"bold fs-12 mb-5\"]')\n",
    "a = date.text\n",
    "for i in tqdm(range(count-1)):\n",
    "    Date.append(a)\n",
    "else:\n",
    "    pass"
   ]
  },
  {
   "cell_type": "code",
   "execution_count": 83,
   "metadata": {},
   "outputs": [
    {
     "data": {
      "text/plain": [
       "(2101, 2101, 2101, 2101, 2101, 2101, 2101, 2101, 2101, 2101)"
      ]
     },
     "execution_count": 83,
     "metadata": {},
     "output_type": "execute_result"
    }
   ],
   "source": [
    "len(Aeroplane), len(Airlines), len(Dept_time), len(Arrival_time), len(Source), len(Destination), len(Duration), len(Stops),len(Price), len(Date)"
   ]
  },
  {
   "cell_type": "markdown",
   "metadata": {},
   "source": [
    "- **Opening Business flights from Varanasi to New Dehli  on 22 Sep 2022**"
   ]
  },
  {
   "cell_type": "code",
   "execution_count": 84,
   "metadata": {},
   "outputs": [],
   "source": [
    "url = \"https://flight.yatra.com/air-search-ui/dom2/trigger?ADT=1&CHD=0&INF=0&class=Economy&destination=DEL&destinationCountry=IN&flexi=0&flight_depart_date=22%2F09%2F2022&hb=&noOfSegments=1&origin=VNS&originCountry=IN&type=O&unique=1663484128579&viewName=normal\"\n",
    "driver.get(url)\n",
    "time.sleep(2)"
   ]
  },
  {
   "cell_type": "code",
   "execution_count": 85,
   "metadata": {},
   "outputs": [
    {
     "data": {
      "text/plain": [
       "25"
      ]
     },
     "execution_count": 85,
     "metadata": {},
     "output_type": "execute_result"
    }
   ],
   "source": [
    "flights=driver.find_elements(By.XPATH,'//div[@class=\"flight-det table full-width clearfix\"]')\n",
    "len(flights)"
   ]
  },
  {
   "cell_type": "code",
   "execution_count": 86,
   "metadata": {},
   "outputs": [
    {
     "name": "stderr",
     "output_type": "stream",
     "text": [
      "100%|██████████████████████████████████████████████████████████████████████████████████| 25/25 [00:00<00:00, 96.47it/s]\n",
      "100%|██████████████████████████████████████████████████████████████████████████████████| 25/25 [00:00<00:00, 85.61it/s]\n",
      "100%|██████████████████████████████████████████████████████████████████████████████████| 25/25 [00:00<00:00, 86.21it/s]\n",
      "100%|██████████████████████████████████████████████████████████████████████████████████| 25/25 [00:00<00:00, 87.72it/s]\n",
      "100%|██████████████████████████████████████████████████████████████████████████████████| 25/25 [00:00<00:00, 85.62it/s]\n",
      "100%|██████████████████████████████████████████████████████████████████████████████████| 25/25 [00:00<00:00, 81.97it/s]\n",
      "100%|██████████████████████████████████████████████████████████████████████████████████| 25/25 [00:00<00:00, 82.78it/s]\n",
      "100%|██████████████████████████████████████████████████████████████████████████████████| 25/25 [00:00<00:00, 79.37it/s]\n",
      "100%|██████████████████████████████████████████████████████████████████████████████████████████| 25/25 [00:00<?, ?it/s]\n"
     ]
    }
   ],
   "source": [
    "# Extracting Airlines Name Via Xpath\n",
    "airlines = driver.find_elements(By.XPATH,\"//div[@class='fs-13 airline-name no-pad col-8']/span\")\n",
    "for i in airlines:\n",
    "    Airlines.append(i.text.replace(\"\\n\",\" \"))\n",
    "else :\n",
    "    pass\n",
    "\n",
    "# Extracting Aeroplane model  via xpath\n",
    "aeroplanes = driver.find_elements(By.XPATH,'//p[@class=\"normal fs-11 font-lightestgrey no-wrap fl-no\"]/span')\n",
    "for i in tqdm(aeroplanes):\n",
    "    Aeroplane.append(i.text) \n",
    "else:\n",
    "    pass\n",
    "\n",
    "# Extracting Departure Time of Filght via Xpath\n",
    "dept_times = driver.find_elements(By.XPATH,'//div[@class=\"i-b pr\"]')\n",
    "for i in tqdm(dept_times):\n",
    "    Dept_time.append(i.text)\n",
    "else :\n",
    "    pass\n",
    "\n",
    "# Extracting Arrival Time via xpath\n",
    "arrival = driver.find_elements(By.XPATH,'//p[@class=\"bold fs-15 mb-2 pr time\"]')\n",
    "for i in tqdm(arrival):\n",
    "    Arrival_time.append(i.text)\n",
    "else :\n",
    "    pass\n",
    "\n",
    "# Extracting Source of flight via Xpath\n",
    "source = driver.find_elements(By.XPATH,\"//div[@class='i-b col-4 no-wrap text-right dtime col-3']/p\")\n",
    "for i in tqdm(source):\n",
    "    Source.append(i.text)\n",
    "else :\n",
    "    pass\n",
    "\n",
    "# Extracting Destination of Flights via Xpath\n",
    "destination = driver.find_elements(By.XPATH,'//div[@class=\"i-b pdd-0 text-left atime col-5\"]/p[2]')\n",
    "for i in tqdm(destination):\n",
    "    Destination.append(i.text)\n",
    "else:\n",
    "    pass\n",
    "\n",
    "# Extracting Duration of Flights via Xpath\n",
    "duration = driver.find_elements(By.XPATH,'//div[@class=\"stop-cont pl-13\"]/p')\n",
    "for i in tqdm(duration):\n",
    "    Duration.append(i.text)\n",
    "else:\n",
    "    pass\n",
    "\n",
    "# Extracting stop details via Xpath\n",
    "stop = driver.find_elements(By.XPATH,\"//div[@class='stop-cont pl-13']/div/span\")\n",
    "for i in tqdm(stop):\n",
    "    Stops.append(i.text)\n",
    "else:\n",
    "    pass\n",
    "\n",
    "# Extracting Price of Flights via Xpath\n",
    "count = 0\n",
    "price = driver.find_elements(By.XPATH,'//div[@class=\"i-b tipsy fare-summary-tooltip fs-18\"]')\n",
    "for i in tqdm(price):\n",
    "    Price.append(i.text.replace(',',''))\n",
    "    count = count +1\n",
    "else:\n",
    "    count = count +1\n",
    "    pass\n",
    "\n",
    "# Clicking on Flights details element\n",
    "Button = driver.find_elements(By.XPATH,'//div[@class=\"link-color fs-12 cursor-pointer\"]/span')\n",
    "driver.execute_script(\"arguments[0].click();\", WebDriverWait(driver, 20).until(EC.element_to_be_clickable((By.XPATH,'//div[@class=\"link-color fs-12 cursor-pointer\"]/span'))))\n",
    "time.sleep(0.25)\n",
    "\n",
    "# Extracting Date of Flights via Xpath\n",
    "date = driver.find_element(By.XPATH,'//div[@class=\"bold fs-12 mb-5\"]')\n",
    "a = date.text\n",
    "for i in tqdm(range(count-1)):\n",
    "    Date.append(a)\n",
    "else:\n",
    "    pass"
   ]
  },
  {
   "cell_type": "code",
   "execution_count": 87,
   "metadata": {},
   "outputs": [
    {
     "data": {
      "text/plain": [
       "(2126, 2126, 2126, 2126, 2126, 2126, 2126, 2126, 2126, 2126)"
      ]
     },
     "execution_count": 87,
     "metadata": {},
     "output_type": "execute_result"
    }
   ],
   "source": [
    "len(Aeroplane), len(Airlines), len(Dept_time), len(Arrival_time), len(Source), len(Destination), len(Duration), len(Stops),len(Price), len(Date)"
   ]
  },
  {
   "cell_type": "code",
   "execution_count": 91,
   "metadata": {},
   "outputs": [
    {
     "data": {
      "text/html": [
       "<div>\n",
       "<style scoped>\n",
       "    .dataframe tbody tr th:only-of-type {\n",
       "        vertical-align: middle;\n",
       "    }\n",
       "\n",
       "    .dataframe tbody tr th {\n",
       "        vertical-align: top;\n",
       "    }\n",
       "\n",
       "    .dataframe thead th {\n",
       "        text-align: right;\n",
       "    }\n",
       "</style>\n",
       "<table border=\"1\" class=\"dataframe\">\n",
       "  <thead>\n",
       "    <tr style=\"text-align: right;\">\n",
       "      <th></th>\n",
       "      <th>Airline</th>\n",
       "      <th>Aeroplane</th>\n",
       "      <th>Date</th>\n",
       "      <th>Departure_Time</th>\n",
       "      <th>Arrival_Time</th>\n",
       "      <th>Source</th>\n",
       "      <th>Destination</th>\n",
       "      <th>Stops</th>\n",
       "      <th>Duration</th>\n",
       "      <th>Price</th>\n",
       "    </tr>\n",
       "  </thead>\n",
       "  <tbody>\n",
       "    <tr>\n",
       "      <th>0</th>\n",
       "      <td>Go First</td>\n",
       "      <td>G8-2501</td>\n",
       "      <td>Mon, 19 Sep 2022</td>\n",
       "      <td>02:40</td>\n",
       "      <td>04:50</td>\n",
       "      <td>New Delhi</td>\n",
       "      <td>Mumbai</td>\n",
       "      <td>Non Stop</td>\n",
       "      <td>2h 10m</td>\n",
       "      <td>5950</td>\n",
       "    </tr>\n",
       "    <tr>\n",
       "      <th>1</th>\n",
       "      <td>Go First</td>\n",
       "      <td>G8-336</td>\n",
       "      <td>Mon, 19 Sep 2022</td>\n",
       "      <td>14:30</td>\n",
       "      <td>16:40</td>\n",
       "      <td>New Delhi</td>\n",
       "      <td>Mumbai</td>\n",
       "      <td>Non Stop</td>\n",
       "      <td>2h 10m</td>\n",
       "      <td>5950</td>\n",
       "    </tr>\n",
       "    <tr>\n",
       "      <th>2</th>\n",
       "      <td>SpiceJet</td>\n",
       "      <td>SG-8709</td>\n",
       "      <td>Mon, 19 Sep 2022</td>\n",
       "      <td>19:00</td>\n",
       "      <td>21:10</td>\n",
       "      <td>New Delhi</td>\n",
       "      <td>Mumbai</td>\n",
       "      <td>Non Stop</td>\n",
       "      <td>2h 10m</td>\n",
       "      <td>5950</td>\n",
       "    </tr>\n",
       "    <tr>\n",
       "      <th>3</th>\n",
       "      <td>Go First</td>\n",
       "      <td>G8-330</td>\n",
       "      <td>Mon, 19 Sep 2022</td>\n",
       "      <td>20:50</td>\n",
       "      <td>23:00</td>\n",
       "      <td>New Delhi</td>\n",
       "      <td>Mumbai</td>\n",
       "      <td>Non Stop</td>\n",
       "      <td>2h 10m</td>\n",
       "      <td>5950</td>\n",
       "    </tr>\n",
       "    <tr>\n",
       "      <th>4</th>\n",
       "      <td>Go First</td>\n",
       "      <td>G8-323</td>\n",
       "      <td>Mon, 19 Sep 2022</td>\n",
       "      <td>18:20</td>\n",
       "      <td>20:35</td>\n",
       "      <td>New Delhi</td>\n",
       "      <td>Mumbai</td>\n",
       "      <td>Non Stop</td>\n",
       "      <td>2h 15m</td>\n",
       "      <td>5950</td>\n",
       "    </tr>\n",
       "  </tbody>\n",
       "</table>\n",
       "</div>"
      ],
      "text/plain": [
       "    Airline Aeroplane              Date Departure_Time Arrival_Time  \\\n",
       "0  Go First   G8-2501  Mon, 19 Sep 2022          02:40        04:50   \n",
       "1  Go First    G8-336  Mon, 19 Sep 2022          14:30        16:40   \n",
       "2  SpiceJet   SG-8709  Mon, 19 Sep 2022          19:00        21:10   \n",
       "3  Go First    G8-330  Mon, 19 Sep 2022          20:50        23:00   \n",
       "4  Go First    G8-323  Mon, 19 Sep 2022          18:20        20:35   \n",
       "\n",
       "      Source Destination     Stops Duration Price  \n",
       "0  New Delhi      Mumbai  Non Stop   2h 10m  5950  \n",
       "1  New Delhi      Mumbai  Non Stop   2h 10m  5950  \n",
       "2  New Delhi      Mumbai  Non Stop   2h 10m  5950  \n",
       "3  New Delhi      Mumbai  Non Stop   2h 10m  5950  \n",
       "4  New Delhi      Mumbai  Non Stop   2h 15m  5950  "
      ]
     },
     "execution_count": 91,
     "metadata": {},
     "output_type": "execute_result"
    }
   ],
   "source": [
    "Flight=pd.DataFrame()\n",
    "Flight[\"Airline\"]=Airlines\n",
    "Flight['Aeroplane'] = Aeroplane\n",
    "Flight[\"Date\"]=Date\n",
    "Flight[\"Departure_Time\"]=Dept_time\n",
    "Flight[\"Arrival_Time\"]=Arrival_time\n",
    "Flight[\"Source\"]=Source\n",
    "Flight[\"Destination\"]=Destination\n",
    "Flight[\"Stops\"]=Stops\n",
    "Flight[\"Duration\"]=Duration\n",
    "Flight[\"Price\"]=Price\n",
    "Flight.head()"
   ]
  },
  {
   "cell_type": "code",
   "execution_count": 95,
   "metadata": {},
   "outputs": [],
   "source": [
    "Flight.to_excel('Flight_Price_dataset.xlsx')"
   ]
  },
  {
   "cell_type": "code",
   "execution_count": null,
   "metadata": {},
   "outputs": [],
   "source": []
  }
 ],
 "metadata": {
  "kernelspec": {
   "display_name": "Python 3 (ipykernel)",
   "language": "python",
   "name": "python3"
  },
  "language_info": {
   "codemirror_mode": {
    "name": "ipython",
    "version": 3
   },
   "file_extension": ".py",
   "mimetype": "text/x-python",
   "name": "python",
   "nbconvert_exporter": "python",
   "pygments_lexer": "ipython3",
   "version": "3.9.12"
  }
 },
 "nbformat": 4,
 "nbformat_minor": 4
}
